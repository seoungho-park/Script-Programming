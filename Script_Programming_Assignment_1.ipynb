{
 "cells": [
  {
   "cell_type": "markdown",
   "id": "d64da07b",
   "metadata": {},
   "source": [
    "# Assignment 1"
   ]
  },
  {
   "cell_type": "markdown",
   "id": "c661e77a",
   "metadata": {},
   "source": [
    "### 2018136037_박성호"
   ]
  },
  {
   "cell_type": "markdown",
   "id": "3c8e15fc",
   "metadata": {},
   "source": [
    "### [문제 1]"
   ]
  },
  {
   "cell_type": "code",
   "execution_count": 25,
   "id": "976b0fe1",
   "metadata": {},
   "outputs": [
    {
     "name": "stdout",
     "output_type": "stream",
     "text": [
      "Python Hello\n"
     ]
    }
   ],
   "source": [
    "a = \"Hello Python\"\n",
    "a = a[6:12] + a[5:6] + a[0:5]\n",
    "print(a)"
   ]
  },
  {
   "cell_type": "markdown",
   "id": "5d9e001e",
   "metadata": {},
   "source": [
    "- 리스트 a를 \"Hello Python\"으로 선언하고, 슬라이싱을 이용하여 다시 변수 a 자체에 \"Python Hello\"가 저장되게 했습니다."
   ]
  },
  {
   "cell_type": "markdown",
   "id": "c972b04b",
   "metadata": {},
   "source": [
    "### [문제 2]"
   ]
  },
  {
   "cell_type": "code",
   "execution_count": 20,
   "id": "282e695c",
   "metadata": {},
   "outputs": [
    {
     "name": "stdout",
     "output_type": "stream",
     "text": [
      "World Python Hello\n"
     ]
    }
   ],
   "source": [
    "b = \"Hello Python World\"\n",
    "b = b[13:19] + b[5:13] + b[0:5]\n",
    "print(b)"
   ]
  },
  {
   "cell_type": "markdown",
   "id": "57747c0f",
   "metadata": {},
   "source": [
    "- 각각의 단어들을 슬라이싱을 이용하여 선택한 뒤에 리스트 b에 저장하였습니다."
   ]
  },
  {
   "cell_type": "markdown",
   "id": "b387479d",
   "metadata": {},
   "source": [
    "### [문제 3]"
   ]
  },
  {
   "cell_type": "code",
   "execution_count": 51,
   "id": "846856b6",
   "metadata": {},
   "outputs": [
    {
     "name": "stdout",
     "output_type": "stream",
     "text": [
      "olleH\n"
     ]
    }
   ],
   "source": [
    "c = \"Hello\"\n",
    "c = c[5:6] + c[4:5] + c[3:4] + c[2:3] + c[1:2] + c[0:1]\n",
    "print(c)"
   ]
  },
  {
   "cell_type": "markdown",
   "id": "7484bcba",
   "metadata": {},
   "source": [
    "- c의 문자열 \"Hello\"를 슬라이싱과 +연산자를 이용해 \"olleH\"를 c에 저장했습니다."
   ]
  },
  {
   "cell_type": "markdown",
   "id": "55704cab",
   "metadata": {},
   "source": [
    "### [문제 4]"
   ]
  },
  {
   "cell_type": "markdown",
   "id": "a7d294fb",
   "metadata": {},
   "source": [
    "### A"
   ]
  },
  {
   "cell_type": "code",
   "execution_count": 56,
   "id": "a3bf7509",
   "metadata": {},
   "outputs": [
    {
     "name": "stdout",
     "output_type": "stream",
     "text": [
      "p p p\n"
     ]
    }
   ],
   "source": [
    "s = 'python'\n",
    "print(s[0], s[0][0], s[0][0][0])"
   ]
  },
  {
   "cell_type": "markdown",
   "id": "f4203fb7",
   "metadata": {},
   "source": [
    "- 좌표에서도 (0), (0,0), (0,0,0) 모두 동일하게 원점을 가리키는 것과 같이 [0], [0][0], [0][0][0] 인덱스 모두 첫 원소를 가르키므로 위와 같이 'p'가 모두 오류없이 출력되었습니다."
   ]
  },
  {
   "cell_type": "markdown",
   "id": "8d84a93c",
   "metadata": {},
   "source": [
    "### B"
   ]
  },
  {
   "cell_type": "code",
   "execution_count": 54,
   "id": "06293128",
   "metadata": {},
   "outputs": [
    {
     "ename": "IndexError",
     "evalue": "string index out of range",
     "output_type": "error",
     "traceback": [
      "\u001b[0;31m---------------------------------------------------------------------------\u001b[0m",
      "\u001b[0;31mIndexError\u001b[0m                                Traceback (most recent call last)",
      "\u001b[0;32m<ipython-input-54-afbe5e6b7fb0>\u001b[0m in \u001b[0;36m<module>\u001b[0;34m\u001b[0m\n\u001b[1;32m      1\u001b[0m \u001b[0ms\u001b[0m \u001b[0;34m=\u001b[0m \u001b[0;34m'python'\u001b[0m\u001b[0;34m\u001b[0m\u001b[0;34m\u001b[0m\u001b[0m\n\u001b[0;32m----> 2\u001b[0;31m \u001b[0mprint\u001b[0m\u001b[0;34m(\u001b[0m\u001b[0ms\u001b[0m\u001b[0;34m[\u001b[0m\u001b[0;34m-\u001b[0m\u001b[0;36m100\u001b[0m\u001b[0;34m]\u001b[0m\u001b[0;34m,\u001b[0m \u001b[0ms\u001b[0m\u001b[0;34m[\u001b[0m\u001b[0;36m100\u001b[0m\u001b[0;34m]\u001b[0m\u001b[0;34m)\u001b[0m\u001b[0;34m\u001b[0m\u001b[0;34m\u001b[0m\u001b[0m\n\u001b[0m",
      "\u001b[0;31mIndexError\u001b[0m: string index out of range"
     ]
    }
   ],
   "source": [
    "s = 'python'\n",
    "print(s[-100], s[100])"
   ]
  },
  {
   "cell_type": "markdown",
   "id": "160d0da8",
   "metadata": {},
   "source": [
    "- 100과 -100 모두 인덱스가 리스트의 선언되지 않은 부분을 가리키고 있기 때문입니다."
   ]
  },
  {
   "cell_type": "markdown",
   "id": "46082853",
   "metadata": {},
   "source": [
    "### C"
   ]
  },
  {
   "cell_type": "code",
   "execution_count": 6,
   "id": "600b8b52",
   "metadata": {},
   "outputs": [
    {
     "ename": "TypeError",
     "evalue": "string indices must be integers",
     "output_type": "error",
     "traceback": [
      "\u001b[0;31m---------------------------------------------------------------------------\u001b[0m",
      "\u001b[0;31mTypeError\u001b[0m                                 Traceback (most recent call last)",
      "\u001b[0;32m<ipython-input-6-6ff2ed0724a4>\u001b[0m in \u001b[0;36m<module>\u001b[0;34m\u001b[0m\n\u001b[1;32m      1\u001b[0m \u001b[0ms\u001b[0m \u001b[0;34m=\u001b[0m \u001b[0;34m'python'\u001b[0m\u001b[0;34m\u001b[0m\u001b[0;34m\u001b[0m\u001b[0m\n\u001b[0;32m----> 2\u001b[0;31m \u001b[0mprint\u001b[0m\u001b[0;34m(\u001b[0m\u001b[0ms\u001b[0m\u001b[0;34m[\u001b[0m\u001b[0;34m-\u001b[0m\u001b[0;36m100\u001b[0m\u001b[0;34m,\u001b[0m\u001b[0;36m100\u001b[0m\u001b[0;34m]\u001b[0m\u001b[0;34m)\u001b[0m\u001b[0;34m\u001b[0m\u001b[0;34m\u001b[0m\u001b[0m\n\u001b[0m",
      "\u001b[0;31mTypeError\u001b[0m: string indices must be integers"
     ]
    }
   ],
   "source": [
    "s = 'python'\n",
    "print(s[-100,100])"
   ]
  },
  {
   "cell_type": "markdown",
   "id": "76753ba8",
   "metadata": {},
   "source": [
    "- s는 현재 1차원 리스트인 문자열이기 때문에 2차원 요소로 접근하면 오류가 발생합니다."
   ]
  },
  {
   "cell_type": "markdown",
   "id": "c7785f52",
   "metadata": {},
   "source": [
    "### D"
   ]
  },
  {
   "cell_type": "code",
   "execution_count": 61,
   "id": "0b650cb1",
   "metadata": {},
   "outputs": [
    {
     "name": "stdout",
     "output_type": "stream",
     "text": [
      "ytho\n"
     ]
    }
   ],
   "source": [
    "s = 'python'\n",
    "print(s[1:-1])"
   ]
  },
  {
   "cell_type": "markdown",
   "id": "ba1e7ccd",
   "metadata": {},
   "source": [
    "- 리스트의 슬라이싱을 사용할 때 콜론 앞에있는 숫자는 범위의 시작을, 뒤에있는 숫자는 범위의 끝을 의미합니다. 따라서 시작은 인덱스 1이므로 y부터 시작하고, 인덱스에 있어서 음수는 그 값이 작아질수록 뒤에서 앞으로를 가리키므로 맨 뒤에서 두번째인 o까지를 가리킵니다. 그러므로 결과적으로 'ystho'가 리스트 s에 저장되게 됩니다."
   ]
  },
  {
   "cell_type": "markdown",
   "id": "2e822163",
   "metadata": {},
   "source": [
    "### [문제 5]"
   ]
  },
  {
   "cell_type": "code",
   "execution_count": 75,
   "id": "bdd0c10c",
   "metadata": {},
   "outputs": [
    {
     "name": "stdout",
     "output_type": "stream",
     "text": [
      "[1, 3, 5, 7, 9, 11, 13, 15, 17, 19, 21, 23, 25, 27, 29, 31, 33, 35, 37, 39, 41, 43, 45, 47, 49, 51, 53, 55, 57, 59, 61, 63, 65, 67, 69, 71, 73, 75, 77, 79, 81, 83, 85, 87, 89, 91, 93, 95, 97, 99]\n"
     ]
    }
   ],
   "source": [
    "odd_num = list()\n",
    "for num in range(1, 100, 2):\n",
    "    odd_num.append(num)\n",
    "print(odd_num)"
   ]
  },
  {
   "cell_type": "markdown",
   "id": "09030812",
   "metadata": {},
   "source": [
    "- 먼저 홀수값들이 들어갈 리스트를 생성해준 뒤 반복문의 range()문법을 이용하여 1부터 100까지 2단계씩 num값이 증가토록 하고, 리스트의 append()메소드를 이용하여 리스트 뒤에 홀수들을 이어붙여 간 뒤에 리스트를 출력해주었습니다."
   ]
  },
  {
   "cell_type": "markdown",
   "id": "df3db444",
   "metadata": {},
   "source": [
    "### [문제 6]"
   ]
  },
  {
   "cell_type": "code",
   "execution_count": 81,
   "id": "099a8195",
   "metadata": {},
   "outputs": [
    {
     "name": "stdout",
     "output_type": "stream",
     "text": [
      "2550\n"
     ]
    }
   ],
   "source": [
    "total_even_num = even_num = 0\n",
    "while ( even_num <= 100 ):\n",
    "    total_even_num += even_num\n",
    "    even_num += 2\n",
    "print(n)"
   ]
  },
  {
   "cell_type": "markdown",
   "id": "0a234588",
   "metadata": {},
   "source": [
    "- 먼저 사용하려는 변수들을 초기화해준 뒤에 while문을 사용해서 even_num이 100이하일 때 반복문이 실행되도록 설정했습니다. 그리고 total_even_num에 짝수들을 연속적으로 더하고, even_num은 2씩 증가시켜서 짝수만이 최종합에 더해지도록 했습니다. total_even_num을 even_num보다 먼저 덧셈을 실행시켜야 마지막 조건문이 실행될 때 102값이 더해지지 않기 때문에 먼저 덧셈을 하도록 했습니다."
   ]
  },
  {
   "cell_type": "markdown",
   "id": "8177bdc1",
   "metadata": {},
   "source": [
    "### [문제 7]"
   ]
  },
  {
   "cell_type": "code",
   "execution_count": 1,
   "id": "610fe92e",
   "metadata": {},
   "outputs": [
    {
     "name": "stdout",
     "output_type": "stream",
     "text": [
      "정수를 입력하세요 : 3125\n",
      "5213\n"
     ]
    }
   ],
   "source": [
    "integer = input('정수를 입력하세요 : ')\n",
    "list(map(int ,str(integer)))\n",
    "print(integer[::-1])"
   ]
  },
  {
   "cell_type": "markdown",
   "id": "a00a27bf",
   "metadata": {},
   "source": [
    "- input() 함수를 이용해 사용자로부터 정수를 입력받아서 integer에 저장하고, map를 이용하여 정수의 각 자릿수를 나눠서 다시 리스트에 넣어줬습니다. 출력할 때 [::-1]을 이용하여 뒤에서부터 출력하게 해서 사용자로부터 입력받은 숫자를 거꾸로 출력했습니다."
   ]
  },
  {
   "cell_type": "markdown",
   "id": "a9a109a6",
   "metadata": {},
   "source": [
    "### [문제 8]"
   ]
  },
  {
   "cell_type": "code",
   "execution_count": 46,
   "id": "103a1251",
   "metadata": {},
   "outputs": [
    {
     "name": "stdout",
     "output_type": "stream",
     "text": [
      "정수를 입력하세요 : 30\n",
      "[2, 3, 5, 7, 11, 13, 17, 19, 23, 29]\n"
     ]
    }
   ],
   "source": [
    "prime_num_list = [2]\n",
    "\n",
    "integer = int(input('정수를 입력하세요 : '))\n",
    "\n",
    "for n in range(3, integer+1):     #3부터 입력받은 숫자까지 반복시키는 반복문\n",
    "    for_out = 1\n",
    "    for num in range(0, len(prime_num_list)):     #리스트의 처음부터 끝까지 나머지를 비교하는 반복문\n",
    "        if n%prime_num_list[num] == 0:\n",
    "            for_out = 0         #나머지가 0일 때의 n값에 대한 판별\n",
    "            break\n",
    "    if for_out == 1:      #나머지가 0이 아닐 때의 조건문\n",
    "        prime_num_list.append(n)\n",
    "print(prime_num_list)"
   ]
  },
  {
   "cell_type": "markdown",
   "id": "6f65c4de",
   "metadata": {},
   "source": [
    "- 처음에 리스트에 2를 저장해주며 선언해준 뒤에 정수를 입력받고 3부터 입력받은 정수까지, 리스트의 처음부터 마지막까지 반복해서 검사하는 이중반복문을 만들었습니다. 또한 나머지가 0일 때 if문과 for문을 빠져나와야하기 때문에 for_out에 각각 0과 1을 넣어주어 마지막에 for_out값이 1이면 소수로 판정해서 리스트에 추가시켰습니다. 그리고 완성된 리스트를 출력해주었습니다."
   ]
  },
  {
   "cell_type": "markdown",
   "id": "1d77331f",
   "metadata": {},
   "source": [
    "### [문제 9]"
   ]
  },
  {
   "cell_type": "code",
   "execution_count": 26,
   "id": "cd907961",
   "metadata": {},
   "outputs": [
    {
     "name": "stdout",
     "output_type": "stream",
     "text": [
      "string S를 입력하세요 : BANANA\n",
      "승자 : Stuart 점수 :  12\n"
     ]
    }
   ],
   "source": [
    "Kevin_score = 0\n",
    "Stuart_score = 0                                             # 변수들의 선언\n",
    "\n",
    "string_S = input(\"string S를 입력하세요 : \")                     # 문자열을 입력받는다\n",
    "for indx in range(len(string_S)):                            # 입력받은 문자열의 길이만큼 반복\n",
    "    if string_S[indx] == ('A' or 'E' or 'I' or 'O' or 'U') : # 문자열에 모음이 있는지 검사\n",
    "        Kevin_score += len(string_S) - indx                  # 문자열의 길이와 모음이 있는 인덱스의 차를 점수에 더함\n",
    "    else:\n",
    "        Stuart_score += len(string_S) - indx                 # 문자열의 길이와 자음이 있는 인덱스의 차를 점수에 더함\n",
    "        \n",
    "if Kevin_score > Stuart_score:\n",
    "    print(\"승자 : Kevin 점수 : \", Kevin_score)\n",
    "elif Kevin_score < Stuart_score:\n",
    "    print(\"승자 : Stuart 점수 : \", Stuart_score)\n",
    "else :\n",
    "    print(\"동점 , 점수 : \", Stuart_score)         # 동점처리를 포함한 게임의 결과를 출력"
   ]
  },
  {
   "cell_type": "markdown",
   "id": "eaaae767",
   "metadata": {},
   "source": [
    "- 해당 게임의 점수내는 방식에 대해 생각해본 결과, 문자열 전체 길이에서 모음 또는 자음이 있는 인덱스의 차를 각각 반복적으로 더하면 Kevin 또는 Stuart의 점수가 된다는 것을 알아냈습니다. 그래서 문자열의 모음을 판별해내서 모음이라면 문자열 길이와의 차를 Kevin의 점수에, 자음이라면 Stuart의 점수에 더해주는 방식으로 구현했고, 동점이 나올 경우도 포함해서 출력도 해주도록 했습니다."
   ]
  },
  {
   "cell_type": "markdown",
   "id": "c36b6383",
   "metadata": {},
   "source": [
    "### [문제 10]"
   ]
  },
  {
   "cell_type": "code",
   "execution_count": 51,
   "id": "7c0cf7d8",
   "metadata": {},
   "outputs": [
    {
     "name": "stdout",
     "output_type": "stream",
     "text": [
      "문자열 s를 입력하세요 : ashley\n",
      "문자열 t를 입력하세요 : ash\n",
      "정수 k를 입력하세요 : 2\n",
      "No\n"
     ]
    }
   ],
   "source": [
    "def appendDelete(s, t, k):\n",
    "    if abs(len(s) - len(t)) > k:               #s의 길이와 k의 차가 t의 길이보다 긴 경우\n",
    "        return 'No'\n",
    "    elif len(s) + len(t) <= k:                 #a를 모두 지우고 바꿀 수 있는 경우\n",
    "        return 'Yes'\n",
    "    else :\n",
    "        for repeat in range(len(s)):           #s의 길이동안 반복\n",
    "            if s[repeat] != t[repeat] :        #s와 t의 인덱스로 각 원소들을 비교\n",
    "                index = repeat\n",
    "                break\n",
    "        if len(s)-index + len(t)-index <= k:   #바꿔야할 원소들 뒤쪽의 원소들의 합이 k보다 작거나 같으면\n",
    "            return 'Yes'                       #'Yes'를 반환\n",
    "        else :\n",
    "            return 'No'                        #이외의 경우에는 'No'반환"
   ]
  },
  {
   "cell_type": "markdown",
   "id": "f9388ee7",
   "metadata": {},
   "source": [
    "- 먼저 두 문자열의 최종합이 k보다 짧거나 차가 k보다 긴 경우로 나눴습니다. 그 외의 경우에는 두 문자열을 비교하여 처음으로 달라지는 인덱스를 알아내고, 그 위치부터 두 문자열의 나머지 문자열의 길이의 합이 k보다 짧으면 'Yes', 길면 'No'를 반환하도록 했습니다."
   ]
  },
  {
   "cell_type": "markdown",
   "id": "5e77b0ff",
   "metadata": {},
   "source": [
    "### 느낀점"
   ]
  },
  {
   "cell_type": "markdown",
   "id": "3b1897ce",
   "metadata": {},
   "source": [
    "- 강의를 들을 때는 잘 이해되고 쉬워보였지만 막상 파이썬 언어로 코드를 짜려고 하니 어렵기도 했고, 오류도 많이 발생했습니다. 그리고 문제들도 익숙치 않은 문제들이였지만 풀다보니 재밌었고 어려운 문제를 푸는 과정 속에서 어떻게 문제를 풀어야겠다 하는 경험들도 조금은 쌓인 것 같습니다. 강의와 문제 난이도 모두 마냥 쉽지는 않지만 충분히 해낼 수 있고, 배우고 성장한다는 느낌을 계속해서 받고 있습니다."
   ]
  }
 ],
 "metadata": {
  "kernelspec": {
   "display_name": "Python 3",
   "language": "python",
   "name": "python3"
  },
  "language_info": {
   "codemirror_mode": {
    "name": "ipython",
    "version": 3
   },
   "file_extension": ".py",
   "mimetype": "text/x-python",
   "name": "python",
   "nbconvert_exporter": "python",
   "pygments_lexer": "ipython3",
   "version": "3.8.8"
  }
 },
 "nbformat": 4,
 "nbformat_minor": 5
}
