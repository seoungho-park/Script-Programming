{
 "cells": [
  {
   "cell_type": "markdown",
   "id": "3aee0ec8",
   "metadata": {},
   "source": [
    "# Assignment_2"
   ]
  },
  {
   "cell_type": "markdown",
   "id": "c8333f4c",
   "metadata": {},
   "source": [
    "### 2018136037_박성호"
   ]
  },
  {
   "cell_type": "markdown",
   "id": "5631c65a",
   "metadata": {},
   "source": [
    "## [일반 문제 1]"
   ]
  },
  {
   "cell_type": "code",
   "execution_count": 106,
   "id": "bc8af57e",
   "metadata": {},
   "outputs": [
    {
     "data": {
      "text/plain": [
       "4"
      ]
     },
     "execution_count": 106,
     "metadata": {},
     "output_type": "execute_result"
    }
   ],
   "source": [
    "1 and 2 and 3 and 4"
   ]
  },
  {
   "cell_type": "markdown",
   "id": "094607b3",
   "metadata": {},
   "source": [
    "- 이 예제에서는 모두 다 참이지만 and 연산자는 마지막까지 살펴보고 뒤에 있는 값을 출력하므로 4가 나온다."
   ]
  },
  {
   "cell_type": "code",
   "execution_count": 7,
   "id": "64d8f713",
   "metadata": {},
   "outputs": [
    {
     "data": {
      "text/plain": [
       "1"
      ]
     },
     "execution_count": 7,
     "metadata": {},
     "output_type": "execute_result"
    }
   ],
   "source": [
    "1 or 2 or 3 or 4"
   ]
  },
  {
   "cell_type": "markdown",
   "id": "b7ad64ad",
   "metadata": {},
   "source": [
    "- 맨 앞쪽에서 1이 참이고 이미 참을 만족했으므로 or연산자는 앞이 이미 참이면 뒤쪽을 살펴볼 필요가 없어서 1이 나온다."
   ]
  },
  {
   "cell_type": "code",
   "execution_count": 107,
   "id": "e82b68eb",
   "metadata": {},
   "outputs": [
    {
     "data": {
      "text/plain": [
       "2"
      ]
     },
     "execution_count": 107,
     "metadata": {},
     "output_type": "execute_result"
    }
   ],
   "source": [
    "1 and 2 or 3 and 4"
   ]
  },
  {
   "cell_type": "markdown",
   "id": "149609f9",
   "metadata": {},
   "source": [
    "- and연산자에 의해 2까지 살펴보긴 했지만 이미 참이고, or 연산자에 의해 앞이 이미 참이면 더이상 뒤를 살펴볼 이유가 없으므로 바로 2가 나온다."
   ]
  },
  {
   "cell_type": "code",
   "execution_count": 109,
   "id": "bc286fc8",
   "metadata": {},
   "outputs": [
    {
     "data": {
      "text/plain": [
       "2"
      ]
     },
     "execution_count": 109,
     "metadata": {},
     "output_type": "execute_result"
    }
   ],
   "source": [
    "(1 and 2) or (3 and 4)"
   ]
  },
  {
   "cell_type": "markdown",
   "id": "b9b63017",
   "metadata": {},
   "source": [
    "- 앞의 괄호에서 and에 의해 2까지 살펴보아서 참이 되었고, 이미 2에 의해 참이되었으므로 or연산자에 의해서 더이상 뒤를 살펴볼 이유가 없으므로 바로 2가 나온다."
   ]
  },
  {
   "cell_type": "code",
   "execution_count": 9,
   "id": "f0157491",
   "metadata": {},
   "outputs": [
    {
     "data": {
      "text/plain": [
       "1"
      ]
     },
     "execution_count": 9,
     "metadata": {},
     "output_type": "execute_result"
    }
   ],
   "source": [
    "1 or 2 and 3 or 4"
   ]
  },
  {
   "cell_type": "markdown",
   "id": "ce1a4783",
   "metadata": {},
   "source": [
    "- 이미 맨 처음 값인 1에서 참을 만족했고, or연산자에 의해 앞이 참이면 더이상 뒤를 살펴볼 이유가 없이 참이므로 1이 나온다."
   ]
  },
  {
   "cell_type": "code",
   "execution_count": 10,
   "id": "b1dfb40f",
   "metadata": {},
   "outputs": [
    {
     "data": {
      "text/plain": [
       "3"
      ]
     },
     "execution_count": 10,
     "metadata": {},
     "output_type": "execute_result"
    }
   ],
   "source": [
    "(1 or 2) and (3 or 4)"
   ]
  },
  {
   "cell_type": "markdown",
   "id": "845ca885",
   "metadata": {},
   "source": [
    "- 앞의 괄호에서 참 값이 나왔지만 and연산자에 의해서 뒤를 살펴보아야 해서 뒤를 살펴보았지만 3에서 이미 참이므로 or에 의해서 더이상 뒤를 살펴볼 이유가 없으므로 3이 나온다."
   ]
  },
  {
   "cell_type": "markdown",
   "id": "2870b2b7",
   "metadata": {},
   "source": [
    "## [일반 문제 2]"
   ]
  },
  {
   "cell_type": "code",
   "execution_count": 39,
   "id": "e0cd8d76",
   "metadata": {},
   "outputs": [],
   "source": [
    "def div_path(directory):\n",
    "    rev_dir = list(reversed(directory))\n",
    "    file_name = []\n",
    "    for i in range(len(rev_dir)):\n",
    "        if rev_dir[i] == '/':\n",
    "            break\n",
    "        file_name.insert(0, a[i])\n",
    "    c = [ directory[:-len(file_name)-1], ''.join(file_name)]\n",
    "    return div_dir"
   ]
  },
  {
   "cell_type": "code",
   "execution_count": 41,
   "id": "3257780f",
   "metadata": {},
   "outputs": [
    {
     "name": "stdout",
     "output_type": "stream",
     "text": [
      "경로를 입력하세요 : /usr/local/bin/python\n",
      "['/usr/local/bin', 'python']\n"
     ]
    }
   ],
   "source": [
    "directory = input(\"경로를 입력하세요 : \")\n",
    "print(div_path(directory))"
   ]
  },
  {
   "cell_type": "markdown",
   "id": "2679cd0a",
   "metadata": {},
   "source": [
    "- 먼저 함수로 넘겨진 경로명을 역순 리스트로 변경해서 rev_dir에 저장하고 역순 리스트를 앞에서부터 검사하여 '/'가 나오면 검사를 중지하고 '/'가 나오기 전까지의 문자열을 다시 정렬된 순서대로 file_name에 저장한다. 그리고 넘겨줄 리스트의 첫번째 원소에는 원래 문자열을 파일명을 뺀 만큼 슬라이싱하여 경로만 추출하여 저장하고, 두번째 원소에는 파일명 리스트 join을 활용하여 문자열로 변경한 것을 저장한다."
   ]
  },
  {
   "cell_type": "markdown",
   "id": "eead5e67",
   "metadata": {},
   "source": [
    "## [일반 문제 3]"
   ]
  },
  {
   "cell_type": "code",
   "execution_count": 38,
   "id": "dffea7d7",
   "metadata": {},
   "outputs": [],
   "source": [
    "def list_union(lista, listb):\n",
    "    union = lista + listb\n",
    "    for i in range(len(lista)-1):\n",
    "        if lista[i] in listb:\n",
    "            union.remove(lista[i])\n",
    "    union.sort()\n",
    "    return union"
   ]
  },
  {
   "cell_type": "code",
   "execution_count": 39,
   "id": "cc245cf6",
   "metadata": {},
   "outputs": [
    {
     "name": "stdout",
     "output_type": "stream",
     "text": [
      "[1, 2, 3, 4]\n"
     ]
    }
   ],
   "source": [
    "print(list_union([1,2,3], [1,2,4]))"
   ]
  },
  {
   "cell_type": "markdown",
   "id": "c985fff7",
   "metadata": {},
   "source": [
    "- list_union 함수를 호출하면 union리스트에 lista와 listb를 합친 리스트가 저장되고, 반복문과 remove()를 통해 union리스트에서 중복된 원소들을 골라낸다. 그리고 sort()를 이용하여 리스트를 정렬한 뒤에 union리스트를 반환한다."
   ]
  },
  {
   "cell_type": "markdown",
   "id": "553e45be",
   "metadata": {},
   "source": [
    "## [일반 문제 4]"
   ]
  },
  {
   "cell_type": "code",
   "execution_count": 51,
   "id": "f676f33f",
   "metadata": {},
   "outputs": [],
   "source": [
    "def list_intersection(lista, listb):     # 교집합을 반환하는 함수\n",
    "    intersec = []\n",
    "    for i in range(len(lista)):\n",
    "        if lista[i] in listb:\n",
    "            intersec.append(lista[i])\n",
    "    intersec.sort()\n",
    "    return intersec\n",
    "    \n",
    "def list_difference(lista, listb):       # 차집합을 반환하는 함수\n",
    "    for i in range(len(lista)-1):\n",
    "        if lista[i] in listb:\n",
    "            lista.remove(lista[i])\n",
    "    lista.sort()\n",
    "    return lista"
   ]
  },
  {
   "cell_type": "code",
   "execution_count": 52,
   "id": "1f65e36b",
   "metadata": {},
   "outputs": [
    {
     "name": "stdout",
     "output_type": "stream",
     "text": [
      "[2, 3]\n",
      "[1, 3]\n"
     ]
    }
   ],
   "source": [
    "print(list_intersection([1,2,3], [2,3,4]))\n",
    "print(list_difference([1,2,3,4], [2,4,5,6]))"
   ]
  },
  {
   "cell_type": "markdown",
   "id": "13a27f11",
   "metadata": {},
   "source": [
    "- 교집합을 반환하는 함수는 빈 리스트를 만들고 lista를 검사하면서 listb에도 있는 원소를 intersec 리스트에 append()로 추가시키고 정렬하여 반환했으며, 차집합을 반환하는 함수는 전달하는 지스트의 첫번째 원소에서 두번째 원소를 뺀 차집합을 반환하도록 했고 lista에서 listb와 동일한 원소들을 remove()로 제거하고 정렬하여 반환했습니다."
   ]
  },
  {
   "cell_type": "markdown",
   "id": "9a22ae42",
   "metadata": {},
   "source": [
    "## [일반 문제 5]"
   ]
  },
  {
   "cell_type": "code",
   "execution_count": 63,
   "id": "f5fd41dd",
   "metadata": {},
   "outputs": [],
   "source": [
    "def print_primenumber(a, b):\n",
    "    if b == 1:\n",
    "        print(\"{} 이상 {}이하 정수 중 소수 없음\".format(a, b))\n",
    "    else:\n",
    "        prime_num_list = [2]\n",
    "        for n in range(3, b+1):\n",
    "            for_out = 1\n",
    "            for num in range(0, len(prime_num_list)):\n",
    "                if n%prime_num_list[num] == 0:\n",
    "                    for_out = 0\n",
    "                    break\n",
    "            if for_out == 1:\n",
    "                prime_num_list.append(n)\n",
    "        result = \"{} 이상 {} 이하 정수 중 소수 리스트 : [{}]\".format(a, b, prime_num_list)\n",
    "        print(result)"
   ]
  },
  {
   "cell_type": "code",
   "execution_count": 65,
   "id": "5ebfcba4",
   "metadata": {},
   "outputs": [
    {
     "name": "stdout",
     "output_type": "stream",
     "text": [
      "2 이상 10 이하 정수 중 소수 리스트 : [[2, 3, 5, 7]]\n"
     ]
    }
   ],
   "source": [
    "print_primenumber(2, 10)"
   ]
  },
  {
   "cell_type": "markdown",
   "id": "b2158ac3",
   "metadata": {},
   "source": [
    "- 먼저 a의 값과 상관없이 b에 1이 입력되는 경우에 해당 범위에는 소수가 존재하지 않는다는 예외를 출력해주었고, 나머지 경우에는 리스트에 일단 2를 저장해놓고 그 이상의 정수가 들어오면 계속해서 그 이전에 들어온 정수들로 나눠본 후 나머지가 0이면 for_out 변수에 0을 저장하여 리스트에 추가되지 못하게하고, 나머지가 0이 아니여서 for_out에 처음에 저장해놓았던 1이 저장되어있으면 리스트에 추가하였습니다. 그리고 마지막에는 format()를 사용하여 결과값이 출력되도록 했습니다."
   ]
  },
  {
   "cell_type": "markdown",
   "id": "c920d955",
   "metadata": {},
   "source": [
    "## [Incremental Project 문제]"
   ]
  },
  {
   "cell_type": "markdown",
   "id": "20b4278e",
   "metadata": {},
   "source": [
    "### [예시 1]"
   ]
  },
  {
   "cell_type": "code",
   "execution_count": 195,
   "id": "3c4bdfcb",
   "metadata": {},
   "outputs": [],
   "source": [
    "import requests\n",
    "\n",
    "req = requests.get('https://www.naver.com/')   # 네이버 홈페이지의 소스를 저장\n",
    "\n",
    "source1 = req.text"
   ]
  },
  {
   "cell_type": "code",
   "execution_count": 196,
   "id": "d2c3d913",
   "metadata": {},
   "outputs": [],
   "source": [
    "#print(source)"
   ]
  },
  {
   "cell_type": "code",
   "execution_count": 197,
   "id": "da913fd3",
   "metadata": {},
   "outputs": [],
   "source": [
    "def el_and_replace(source, start, end, a = \"\", b = \"\"): # source에서  start부터 end까지 지우고, a를 b로 대체하게 하는 함수\n",
    "    pure_text_list = []\n",
    "    flag = 0\n",
    "    for i in range(len(source)):\n",
    "        if source[i] == start:                  # 문자열의 원소가 지정한 시작점과 일치하면 flag에 0 저장\n",
    "            flag = 1\n",
    "        elif flag == 0:                         # 만약 flag가 0이라면 만들어놓은 리스트 뒤쪽으로 저장\n",
    "            pure_text_list.append(source[i])\n",
    "        elif source[i] == end:                  # 문자열의 원소가 지정한 끝점과 일치하면 flag에 0 저장\n",
    "            flag = 0\n",
    "    pure_text = ''.join(pure_text_list)         # 만들어진 리스트를 문자열로 이어붙여서 저장\n",
    "    pure_text = pure_text.replace(a, b)         # 문자열 중에서 a를 b로 대체하여 저장\n",
    "    return pure_text                            # 완성된 문자열을 반환"
   ]
  },
  {
   "cell_type": "code",
   "execution_count": 198,
   "id": "bd4bca83",
   "metadata": {},
   "outputs": [
    {
     "name": "stdout",
     "output_type": "stream",
     "text": [
      "3980\n"
     ]
    }
   ],
   "source": [
    "source1 = el_and_replace(source1, '<', '>', \"\\n\", \" \")  # <부터 >까지 지우고 \\n을 공백으로 대체\n",
    "\n",
    "source1 = el_and_replace(source1, '[', ']', \"\\r\", \" \")  # [부터 ]까지 지우고 \\r을 공백으로 대체\n",
    "\n",
    "source1 = el_and_replace(source1, '{', '}', \"\\t\", \" \")\n",
    "\n",
    "source1 = el_and_replace(source1, '(', ')', \"document.\", \"<\")\n",
    "\n",
    "source1 = el_and_replace(source1, '&', \";\", \"._\", \"&\")\n",
    "\n",
    "source1 = el_and_replace(source1, '&', ':', \"var\", \"<\")\n",
    "\n",
    "source1 = source1.replace(\"window.\", \"<\") # window.을 <로 대체\n",
    "\n",
    "source1 = el_bracket(source1, '<', ';') # <부터 ;까지 삭제\n",
    "\n",
    "for i in range(30):                       # 단어 사이의 큰 공백들을 한개의 공백으로 대체하는 반복문\n",
    "    source1 = source1.replace(\"  \", \" \")\n",
    "    \n",
    "print(len(source1.split()))                # 공백을 기준으로 나눈 단어들의 리스트의 길이로 단어의 개수 출력"
   ]
  },
  {
   "cell_type": "markdown",
   "id": "818ff160",
   "metadata": {},
   "source": [
    "### [예시 2]"
   ]
  },
  {
   "cell_type": "code",
   "execution_count": 199,
   "id": "9fb9b0b6",
   "metadata": {},
   "outputs": [],
   "source": [
    "req = requests.get('https://dorm.koreatech.ac.kr/')   # 아우미르 홈페이지의 소스를 가져옴\n",
    "\n",
    "source2 = req.text"
   ]
  },
  {
   "cell_type": "code",
   "execution_count": 200,
   "id": "6c405180",
   "metadata": {},
   "outputs": [
    {
     "name": "stdout",
     "output_type": "stream",
     "text": [
      "199\n"
     ]
    }
   ],
   "source": [
    "source2 = el_and_replace(source2, '<', '>', \"\\n\", \" \")  # <부터 >까지 지우고 \\n을 공백으로 대체\n",
    "\n",
    "source2 = el_and_replace(source2, '[', ']', \"\\r\", \" \")\n",
    "\n",
    "source2 = el_and_replace(source2, '{', '}', \"\\t\", \" \")\n",
    "\n",
    "source2 = el_and_replace(source2, '(', ')', \"document.\", \"<\")\n",
    "\n",
    "source2 = el_and_replace(source2, '&', \";\", \"._\", \"&\")\n",
    "\n",
    "source2 = el_and_replace(source2, '&', ':', \"var\", \"<\")\n",
    "\n",
    "source2 = source2.replace(\"window.\", \"<\") # window.을 <로 대체\n",
    "\n",
    "source2 = el_and_replace(source2, '<', ';') # <부터 ;까지 삭제\n",
    "\n",
    "for i in range(30):                       # 단어 사이의 큰 공백들을 한개의 공백으로 대체하는 반복문\n",
    "    source2 = source2.replace(\"  \", \" \")\n",
    "    \n",
    "print(len(source2.split()))                # 공백을 기준으로 나눈 단어들의 리스트의 길이로 단어의 개수 출력"
   ]
  },
  {
   "cell_type": "markdown",
   "id": "7a44a55d",
   "metadata": {},
   "source": [
    "- 먼저 매개변수로 (페이지 소스코드, 지우려는 시작점, 지우려는 끝점, 대체당하는 문자열, 대체하는 문자열)의 형식으로 함수에 전달하여 시작점부터 끝점까지를 지우고 일반적인 replace() 메소드도 해당 함수에 추가했습니다. replace()메소드도 함께 편리하게 사용하기 위해서 매개변수를 만든 함수에 전달하여 함께 수행하도록 했고, 사용하지 않을 때에는 디폴드매개변수를 지정하여 사용하지 않도록 했습니다. 이번 과제에서는 HTML 태그를 제거하기 위하여 <로 시작해 >로 끝나는 문자열들을 제거하였으며 다른 3가지의 괄호와 & ~ ;, window. ~ ;, document. ~ ;, var ~ ;, & ~ :사이에 있는 문자열들을 삭제하고 split()메소드로 최종 문자열을 공백으로 나눠준 뒤에 리스트 원소들의 개수를 출력했습니다. 또다른 종류의 페이지소스를 가져올 때에는 필터를 추가할 수 있도록 위와 같이 구현했습니다."
   ]
  },
  {
   "cell_type": "markdown",
   "id": "86e35f6f",
   "metadata": {},
   "source": [
    "## 느낀점"
   ]
  },
  {
   "cell_type": "markdown",
   "id": "0315d673",
   "metadata": {},
   "source": [
    "- 일반 문제는 기본적인 파이썬의 사용에 대해 알고있고 실수만 아니라면 어렵더라도 집중하고 노력하면 빨리 풀어낼 수 있었던 것 같습니다. 하지만 이번에 시작한 incremental 프로젝트 문제는 훨씬 어렵고 간단하지만은 않은 문제였습니다. 또한 어떻게 접근할지도 어려웠고, 어려번 전체적으로 코드를 바꿔야만 풀 수 있었습니다. 하지만 이렇게 어려운 문제들에 도전해보면서 제 실력이 늘어가고 있다는 것을 느낄 수 있어서 좋습니다."
   ]
  }
 ],
 "metadata": {
  "kernelspec": {
   "display_name": "Python 3",
   "language": "python",
   "name": "python3"
  },
  "language_info": {
   "codemirror_mode": {
    "name": "ipython",
    "version": 3
   },
   "file_extension": ".py",
   "mimetype": "text/x-python",
   "name": "python",
   "nbconvert_exporter": "python",
   "pygments_lexer": "ipython3",
   "version": "3.8.8"
  }
 },
 "nbformat": 4,
 "nbformat_minor": 5
}
