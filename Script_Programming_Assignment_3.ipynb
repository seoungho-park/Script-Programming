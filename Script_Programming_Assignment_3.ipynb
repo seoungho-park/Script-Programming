{
 "cells": [
  {
   "cell_type": "markdown",
   "id": "1a566944",
   "metadata": {},
   "source": [
    "# Assignment_3"
   ]
  },
  {
   "cell_type": "markdown",
   "id": "a88d0790",
   "metadata": {},
   "source": [
    "### 2018136037_박성호"
   ]
  },
  {
   "cell_type": "markdown",
   "id": "6bf31240",
   "metadata": {},
   "source": [
    "## [일반 문제 1]"
   ]
  },
  {
   "cell_type": "markdown",
   "id": "5aab19af",
   "metadata": {},
   "source": [
    "L=[1, 2, 3, 4, 5]일 때, 다음 각 문장을 수행한 후의 결과를 보고 납득할 만한 이유를 설명하시오."
   ]
  },
  {
   "cell_type": "markdown",
   "id": "91e0445c",
   "metadata": {},
   "source": [
    "#### 1) "
   ]
  },
  {
   "cell_type": "code",
   "execution_count": 3,
   "id": "44a7530b",
   "metadata": {},
   "outputs": [],
   "source": [
    "L = [1, 2, 3, 4, 5]"
   ]
  },
  {
   "cell_type": "code",
   "execution_count": 4,
   "id": "db95e7d0",
   "metadata": {},
   "outputs": [
    {
     "name": "stdout",
     "output_type": "stream",
     "text": [
      "[1, 100, 4, 5]\n"
     ]
    }
   ],
   "source": [
    "L[1:3] = [100]\n",
    "print(L)"
   ]
  },
  {
   "cell_type": "markdown",
   "id": "0d0ed55e",
   "metadata": {},
   "source": [
    "- L[1:3] 이 2와 3을 함께 가리키고있고, 그 대신에 100을 저장하도록 했기 때문에 위와 같이 2와 3이 제거되고 그 대신에 100으로 대체된다."
   ]
  },
  {
   "cell_type": "markdown",
   "id": "0ae91a25",
   "metadata": {},
   "source": [
    "#### 2)"
   ]
  },
  {
   "cell_type": "code",
   "execution_count": 16,
   "id": "905efef4",
   "metadata": {},
   "outputs": [],
   "source": [
    "L = [1, 2, 3, 4, 5]"
   ]
  },
  {
   "cell_type": "code",
   "execution_count": 17,
   "id": "e53f86d6",
   "metadata": {},
   "outputs": [
    {
     "name": "stdout",
     "output_type": "stream",
     "text": [
      "[1, 100, 4, 5]\n"
     ]
    }
   ],
   "source": [
    "L[1:3] = [(100)]\n",
    "print(L)"
   ]
  },
  {
   "cell_type": "markdown",
   "id": "12d9dee3",
   "metadata": {},
   "source": [
    "- 100의 양쪽에 있는 괄호는 수식적인 역할을 하기 때문에 이 문제에서는 의미가 없기 때문에 1)번과 같은 이유로 위와 같이 출력된다."
   ]
  },
  {
   "cell_type": "markdown",
   "id": "8248e1d4",
   "metadata": {},
   "source": [
    "#### 3)"
   ]
  },
  {
   "cell_type": "code",
   "execution_count": 21,
   "id": "87ebd877",
   "metadata": {},
   "outputs": [],
   "source": [
    "L = [1, 2, 3, 4, 5]"
   ]
  },
  {
   "cell_type": "code",
   "execution_count": 22,
   "id": "858af68d",
   "metadata": {},
   "outputs": [
    {
     "ename": "TypeError",
     "evalue": "can only assign an iterable",
     "output_type": "error",
     "traceback": [
      "\u001b[0;31m---------------------------------------------------------------------------\u001b[0m",
      "\u001b[0;31mTypeError\u001b[0m                                 Traceback (most recent call last)",
      "\u001b[0;32m<ipython-input-22-0d5d54f04635>\u001b[0m in \u001b[0;36m<module>\u001b[0;34m\u001b[0m\n\u001b[0;32m----> 1\u001b[0;31m \u001b[0mL\u001b[0m\u001b[0;34m[\u001b[0m\u001b[0;36m1\u001b[0m\u001b[0;34m:\u001b[0m\u001b[0;36m3\u001b[0m\u001b[0;34m]\u001b[0m \u001b[0;34m=\u001b[0m \u001b[0;36m100\u001b[0m\u001b[0;34m\u001b[0m\u001b[0;34m\u001b[0m\u001b[0m\n\u001b[0m\u001b[1;32m      2\u001b[0m \u001b[0mprint\u001b[0m\u001b[0;34m(\u001b[0m\u001b[0mL\u001b[0m\u001b[0;34m)\u001b[0m\u001b[0;34m\u001b[0m\u001b[0;34m\u001b[0m\u001b[0m\n",
      "\u001b[0;31mTypeError\u001b[0m: can only assign an iterable"
     ]
    }
   ],
   "source": [
    "L[1:3] = 100\n",
    "print(L)"
   ]
  },
  {
   "cell_type": "markdown",
   "id": "c03d4f15",
   "metadata": {},
   "source": [
    "- L[1:3]에는 리스트나 튜플과 같은 iterable(반복 가능한 객체)를 저장해야하지만 100은 int값이기 때문에 오류가 난다."
   ]
  },
  {
   "cell_type": "markdown",
   "id": "0707c137",
   "metadata": {},
   "source": [
    "#### 4)"
   ]
  },
  {
   "cell_type": "code",
   "execution_count": 1,
   "id": "07328948",
   "metadata": {},
   "outputs": [],
   "source": [
    "L = [1, 2, 3, 4, 5]"
   ]
  },
  {
   "cell_type": "code",
   "execution_count": 2,
   "id": "dd99b44b",
   "metadata": {},
   "outputs": [
    {
     "ename": "TypeError",
     "evalue": "can only assign an iterable",
     "output_type": "error",
     "traceback": [
      "\u001b[0;31m---------------------------------------------------------------------------\u001b[0m",
      "\u001b[0;31mTypeError\u001b[0m                                 Traceback (most recent call last)",
      "\u001b[0;32m<ipython-input-2-efd35df85453>\u001b[0m in \u001b[0;36m<module>\u001b[0;34m\u001b[0m\n\u001b[0;32m----> 1\u001b[0;31m \u001b[0mL\u001b[0m\u001b[0;34m[\u001b[0m\u001b[0;36m1\u001b[0m\u001b[0;34m:\u001b[0m\u001b[0;36m3\u001b[0m\u001b[0;34m]\u001b[0m \u001b[0;34m=\u001b[0m \u001b[0;34m(\u001b[0m\u001b[0;36m100\u001b[0m\u001b[0;34m)\u001b[0m\u001b[0;34m\u001b[0m\u001b[0;34m\u001b[0m\u001b[0m\n\u001b[0m\u001b[1;32m      2\u001b[0m \u001b[0mprint\u001b[0m\u001b[0;34m(\u001b[0m\u001b[0mL\u001b[0m\u001b[0;34m)\u001b[0m\u001b[0;34m\u001b[0m\u001b[0;34m\u001b[0m\u001b[0m\n",
      "\u001b[0;31mTypeError\u001b[0m: can only assign an iterable"
     ]
    }
   ],
   "source": [
    "L[1:3] = (100)\n",
    "print(L)"
   ]
  },
  {
   "cell_type": "markdown",
   "id": "a35d45c0",
   "metadata": {},
   "source": [
    "- L[1:3]에는 리스트나 튜플과 같은 iterable(반복 가능한 객체)를 저장해야하지만 100은 int값이기 때문에 오류가 난다. 여기서 괄호는 수식적인 의미밖에 없으므로 3번 문제와 같다."
   ]
  },
  {
   "cell_type": "markdown",
   "id": "1212fb68",
   "metadata": {},
   "source": [
    "#### 5)"
   ]
  },
  {
   "cell_type": "code",
   "execution_count": 3,
   "id": "cfd4a33a",
   "metadata": {},
   "outputs": [],
   "source": [
    "L = [1, 2, 3, 4, 5]"
   ]
  },
  {
   "cell_type": "code",
   "execution_count": 4,
   "id": "e8c3c8fa",
   "metadata": {},
   "outputs": [
    {
     "name": "stdout",
     "output_type": "stream",
     "text": [
      "[1, 100, 101, 102, 4, 5]\n"
     ]
    }
   ],
   "source": [
    "L[1:3] = (100, 101, 102)\n",
    "print(L)"
   ]
  },
  {
   "cell_type": "markdown",
   "id": "0ca55c47",
   "metadata": {},
   "source": [
    "- (100, 101, 102)는 반복 가능한 튜플이므로 L[1:3]인 2와 3을 대체하여 저장되어 위와 같이 된다."
   ]
  },
  {
   "cell_type": "markdown",
   "id": "2e73e7d8",
   "metadata": {},
   "source": [
    "#### 6)"
   ]
  },
  {
   "cell_type": "code",
   "execution_count": null,
   "id": "99806ef9",
   "metadata": {},
   "outputs": [],
   "source": [
    "L = [1, 2, 3, 4, 5]"
   ]
  },
  {
   "cell_type": "code",
   "execution_count": 7,
   "id": "bb1daeb5",
   "metadata": {},
   "outputs": [
    {
     "name": "stdout",
     "output_type": "stream",
     "text": [
      "[1, 100, 101, 102, 102]\n"
     ]
    }
   ],
   "source": [
    "L[1:3] = [100, 101, 102]\n",
    "print(L)"
   ]
  },
  {
   "cell_type": "markdown",
   "id": "e3f17459",
   "metadata": {},
   "source": [
    "- [100, 101, 102]는 반복 가능한 리스트이므로 L[1:3]인 2와 3을 대체하여 저장되어 위와 같이 된다."
   ]
  },
  {
   "cell_type": "markdown",
   "id": "39ca313e",
   "metadata": {},
   "source": [
    "#### 7)"
   ]
  },
  {
   "cell_type": "code",
   "execution_count": 5,
   "id": "b0cec1b4",
   "metadata": {},
   "outputs": [],
   "source": [
    "L = [1, 2, 3, 4, 5]"
   ]
  },
  {
   "cell_type": "code",
   "execution_count": 6,
   "id": "d91244fe",
   "metadata": {},
   "outputs": [
    {
     "name": "stdout",
     "output_type": "stream",
     "text": [
      "[1, (100, 101, 102), 4, 5]\n"
     ]
    }
   ],
   "source": [
    "L[1:3] = [(100, 101, 102)]\n",
    "print(L)"
   ]
  },
  {
   "cell_type": "markdown",
   "id": "7574a712",
   "metadata": {},
   "source": [
    "- [(100, 101, 102)]는 반복 가능한 리스트이고, (100, 101, 102)는 하나의 원소로서 취급되고, L[1:3]을 대체하여 저장된다."
   ]
  },
  {
   "cell_type": "markdown",
   "id": "77113b9d",
   "metadata": {},
   "source": [
    "#### 8)"
   ]
  },
  {
   "cell_type": "code",
   "execution_count": 7,
   "id": "fd418092",
   "metadata": {},
   "outputs": [],
   "source": [
    "L = [1, 2, 3, 4, 5]"
   ]
  },
  {
   "cell_type": "code",
   "execution_count": 8,
   "id": "97c59c28",
   "metadata": {},
   "outputs": [
    {
     "name": "stdout",
     "output_type": "stream",
     "text": [
      "[1, [100, 101, 102], 4, 5]\n"
     ]
    }
   ],
   "source": [
    "L[1:3] = [[100, 101, 102]]\n",
    "print(L)"
   ]
  },
  {
   "cell_type": "markdown",
   "id": "a451cef7",
   "metadata": {},
   "source": [
    "- [[100, 101, 102]]는 반복 가능한 리스트이고, [100, 101, 102]는 하나의 원소로서 취급되고, L[1:3]을 대체하여 저장된다."
   ]
  },
  {
   "cell_type": "markdown",
   "id": "1b3ae848",
   "metadata": {},
   "source": [
    "## [일반 문제 2]"
   ]
  },
  {
   "cell_type": "markdown",
   "id": "ed9e2aba",
   "metadata": {},
   "source": [
    "문자열 S = 'Hello World and Python'에 대해 다음 요구사항에 대한 Python 코드를 제시하시오."
   ]
  },
  {
   "cell_type": "code",
   "execution_count": 15,
   "id": "814738e0",
   "metadata": {},
   "outputs": [],
   "source": [
    "S = 'Hello World and Python'"
   ]
  },
  {
   "cell_type": "markdown",
   "id": "763ce32f",
   "metadata": {},
   "source": [
    "#### 1) 단어의 순서가 역순으로 되어진 문자열 ('Python and World Hello')을 만들고"
   ]
  },
  {
   "cell_type": "code",
   "execution_count": 16,
   "id": "8088845d",
   "metadata": {},
   "outputs": [
    {
     "name": "stdout",
     "output_type": "stream",
     "text": [
      "Python and World Hello\n"
     ]
    }
   ],
   "source": [
    "L = S.split()\n",
    "L = L[::-1]\n",
    "L = ' '.join(L)\n",
    "print(L)"
   ]
  },
  {
   "cell_type": "markdown",
   "id": "b4cea883",
   "metadata": {},
   "source": [
    "- split()함수를 이용하여 공백을 기준으로 나눠서 저장한 후에 슬라이싱을 이용하여 순서가 반대로되도록 리스트에 다시 저장했다. 그리고 join()을 사용하여 공백이 원소 사이사이에 들어간 이어진 문자열이 되도록 만들었다."
   ]
  },
  {
   "cell_type": "markdown",
   "id": "082f54fa",
   "metadata": {},
   "source": [
    "#### 2) 1)의 결과 문자열에 대해 메소드 splitrㅘ join을 이용하여 공백을 모두 없앤 문자열 'PythonandWorldHello'을 만드시오."
   ]
  },
  {
   "cell_type": "code",
   "execution_count": 17,
   "id": "f7ed2b0a",
   "metadata": {},
   "outputs": [
    {
     "name": "stdout",
     "output_type": "stream",
     "text": [
      "PythonandWorldHello\n"
     ]
    }
   ],
   "source": [
    "L = L.split()\n",
    "L = ''.join(L)\n",
    "print(L)"
   ]
  },
  {
   "cell_type": "markdown",
   "id": "7210d81d",
   "metadata": {},
   "source": [
    "- split()함수를 이용하여 문자열을 공백을 기준으로 나눠서 저장한 뒤에 join()을 이용하여 공백없이 문자열을 이어 위와 같이 출력했습니다."
   ]
  },
  {
   "cell_type": "markdown",
   "id": "f0a854f9",
   "metadata": {},
   "source": [
    "## [일반 문제 3]"
   ]
  },
  {
   "cell_type": "markdown",
   "id": "97abe2da",
   "metadata": {},
   "source": [
    "다음 코드를 보고 물음에 답하시오."
   ]
  },
  {
   "cell_type": "code",
   "execution_count": 18,
   "id": "99a952c3",
   "metadata": {},
   "outputs": [
    {
     "name": "stdout",
     "output_type": "stream",
     "text": [
      "[1, 2, 3, 1, 2, 3, 1, 2, 3]\n",
      "[[1, 2, 3], [1, 2, 3], [1, 2, 3]]\n"
     ]
    }
   ],
   "source": [
    "a = [1, 2, 3]\n",
    "b = a * 3\n",
    "c = [a] * 3\n",
    "print(b)\n",
    "print(c)"
   ]
  },
  {
   "cell_type": "markdown",
   "id": "25a93989",
   "metadata": {},
   "source": [
    "#### 1) 위 코드를 수행한 이후 다음 코드를 수행한 후 b와 c의 내용을 확인하시오."
   ]
  },
  {
   "cell_type": "code",
   "execution_count": 19,
   "id": "a7e73a7f",
   "metadata": {},
   "outputs": [
    {
     "name": "stdout",
     "output_type": "stream",
     "text": [
      "[1, 2, 3, 1, 2, 3, 1, 2, 3]\n",
      "[[0, 2, 3], [0, 2, 3], [0, 2, 3]]\n"
     ]
    }
   ],
   "source": [
    "a[0] = 0\n",
    "print(b)\n",
    "print(c)"
   ]
  },
  {
   "cell_type": "markdown",
   "id": "d7fe9d08",
   "metadata": {},
   "source": [
    "#### 2) b와 c 객체의 차이는 무엇인가 ?"
   ]
  },
  {
   "cell_type": "markdown",
   "id": "a720de17",
   "metadata": {},
   "source": [
    "- b는 a가 가리키는 값을 3번 반복해서 복사하여 각각을 리스트의 원소로 저장했지만, c는 a리스트 자체를 하나의 원소로 취급하여 3번 반복해서 원소로 저장하였기 때문에 a의 값이 바뀌면 b의 값은 바뀌지 않지만 c는 그 값이 바뀐다."
   ]
  },
  {
   "cell_type": "markdown",
   "id": "bd2f65de",
   "metadata": {},
   "source": [
    "## [일반 문제 4]"
   ]
  },
  {
   "cell_type": "markdown",
   "id": "41a7d336",
   "metadata": {},
   "source": [
    "다음 문자열을 ':'을 기준으로 분리하여 리스트로 만들고 각 문자열의 좌우 공백을 제거하시오 ( 즉, 문자열 S에서 I을 만들어라 )"
   ]
  },
  {
   "cell_type": "code",
   "execution_count": 25,
   "id": "ffa7f998",
   "metadata": {},
   "outputs": [],
   "source": [
    "S = '  first star   :   second star   :   third star  '\n",
    "I = ['first star', 'second star', 'third star']"
   ]
  },
  {
   "cell_type": "markdown",
   "id": "121075b1",
   "metadata": {},
   "source": [
    "#### 1) for ~ in 문을 이용한 코드를 작성하시오."
   ]
  },
  {
   "cell_type": "code",
   "execution_count": 28,
   "id": "06da4f63",
   "metadata": {},
   "outputs": [
    {
     "name": "stdout",
     "output_type": "stream",
     "text": [
      "['first star', 'second star', 'third star']\n"
     ]
    }
   ],
   "source": [
    "I = S.split(':')\n",
    "for i in range(len(I)):\n",
    "    I[i] = I[i].strip()\n",
    "print(I)"
   ]
  },
  {
   "cell_type": "markdown",
   "id": "a8a80ff4",
   "metadata": {},
   "source": [
    "- split()을 이용하여 ':'을 기준으로 분리하여 리스트로 만들었고, 반복문과 strip()을 이용하여 각각의 단어의 좌우공백을 제거했다."
   ]
  },
  {
   "cell_type": "markdown",
   "id": "8cd06586",
   "metadata": {},
   "source": [
    "#### 2) 리스트 내포 ( list comprehension ) 를 이용한 코드를 작성하시오."
   ]
  },
  {
   "cell_type": "code",
   "execution_count": 35,
   "id": "f81d0bfd",
   "metadata": {},
   "outputs": [
    {
     "name": "stdout",
     "output_type": "stream",
     "text": [
      "['first star', 'second star', 'third star']\n"
     ]
    }
   ],
   "source": [
    "I = S.split(':')\n",
    "I = [I[i].strip() for i in range(len(I))]\n",
    "print(I)"
   ]
  },
  {
   "cell_type": "markdown",
   "id": "a86cf55d",
   "metadata": {},
   "source": [
    "- 1)번과 같은 방법으로 구현하였지만, 리스트내포를 활용하여 위와 같은 결과를 출력했다."
   ]
  },
  {
   "cell_type": "markdown",
   "id": "2207a0af",
   "metadata": {},
   "source": [
    "## [일반 문제 5]"
   ]
  },
  {
   "cell_type": "markdown",
   "id": "e751b703",
   "metadata": {},
   "source": [
    "다음과 같이 0보다 큰 정수 리스트 변수 list를 인자로 받는 함수 addall(list)와 addallodd(list)를 for ~ in 리터럴과 리스트 내포 방식으로 각각 제시하시오."
   ]
  },
  {
   "cell_type": "markdown",
   "id": "b5c52bdc",
   "metadata": {},
   "source": [
    "#### 1) addall(list) 함수 ( 리스트 내의 모든 정수를 더하는 함수로서 해답으로는 for ~ in 리터럴과 리스트 내포 방식으로 각각 제시하시오.)"
   ]
  },
  {
   "cell_type": "code",
   "execution_count": 70,
   "id": "b0fee700",
   "metadata": {},
   "outputs": [],
   "source": [
    "def addall_for_in(list):\n",
    "    num = 0\n",
    "    for i in range(len(list)):\n",
    "        num += list[i]\n",
    "    return num\n",
    "\n",
    "def addall_compre(list):\n",
    "    return sum([i for i in list])"
   ]
  },
  {
   "cell_type": "code",
   "execution_count": 71,
   "id": "55c1e2ff",
   "metadata": {},
   "outputs": [
    {
     "name": "stdout",
     "output_type": "stream",
     "text": [
      "1\n",
      "1\n"
     ]
    }
   ],
   "source": [
    "print(addall_for_in([1]))\n",
    "print(addall_compre([1]))"
   ]
  },
  {
   "cell_type": "code",
   "execution_count": 76,
   "id": "1bcc90fb",
   "metadata": {},
   "outputs": [
    {
     "name": "stdout",
     "output_type": "stream",
     "text": [
      "45\n",
      "45\n"
     ]
    }
   ],
   "source": [
    "print(addall_for_in([1, 2, 3, 4, 5, 6, 7, 8, 9]))\n",
    "print(addall_compre([1, 2, 3, 4, 5, 6, 7, 8, 9]))"
   ]
  },
  {
   "cell_type": "markdown",
   "id": "3de16291",
   "metadata": {},
   "source": [
    "- for ~ in 을 이용하여 리스트의 길이만큼 반복하여 num에 각 항을 더해놓고 num을 반환하는 함수를 정의하였고, sum과 리스트 내포를 이용한 함수도 정의하였다."
   ]
  },
  {
   "cell_type": "markdown",
   "id": "0fda62cc",
   "metadata": {},
   "source": [
    "#### 2) addallodd(list) 함수 (리스트 내의 모든 홀수를 더하는 함수로서 해답으로는 for ~ in 리터럴과 리스트 내포 방식으로 각각 제시하시오.)"
   ]
  },
  {
   "cell_type": "code",
   "execution_count": 45,
   "id": "93c186cc",
   "metadata": {},
   "outputs": [],
   "source": [
    "def addallodd_for_in(list):\n",
    "    num = 0\n",
    "    for i in range(len(list)):\n",
    "        if list[i]%2 == 0:\n",
    "            num += list[i]\n",
    "    return num\n",
    "\n",
    "def addallodd_compre(list):\n",
    "    return sum([i for i in list if i%2 == 0])"
   ]
  },
  {
   "cell_type": "code",
   "execution_count": 46,
   "id": "4928d0c4",
   "metadata": {},
   "outputs": [
    {
     "name": "stdout",
     "output_type": "stream",
     "text": [
      "0\n",
      "0\n"
     ]
    }
   ],
   "source": [
    "print(addallodd_for_in([1]))\n",
    "print(addallodd_compre([1]))"
   ]
  },
  {
   "cell_type": "code",
   "execution_count": 47,
   "id": "a8b27498",
   "metadata": {},
   "outputs": [
    {
     "name": "stdout",
     "output_type": "stream",
     "text": [
      "20\n",
      "20\n"
     ]
    }
   ],
   "source": [
    "print(addallodd_for_in([1, 2, 3, 4 , 5, 6, 7, 8, 9]))\n",
    "print(addallodd_compre([1, 2, 3, 4, 5, 6, 7, 8, 9]))"
   ]
  },
  {
   "cell_type": "markdown",
   "id": "1787324c",
   "metadata": {},
   "source": [
    "- 1)번과 같은 방식이지만 2로 나눈 나머지가 1인 항만 더하도록 하는 조건문을 추가하여서 리스트 내의 모든 홀수를 더하는 함수를 정의하였다."
   ]
  },
  {
   "cell_type": "markdown",
   "id": "3b29b84f",
   "metadata": {},
   "source": [
    "## [일반 문제 6]"
   ]
  },
  {
   "cell_type": "markdown",
   "id": "43909f75",
   "metadata": {},
   "source": [
    "다음 코드를 보고 물음에 답하시오."
   ]
  },
  {
   "cell_type": "code",
   "execution_count": 78,
   "id": "c9e9076c",
   "metadata": {},
   "outputs": [
    {
     "name": "stdout",
     "output_type": "stream",
     "text": [
      "{'low': [1, 2, 3], 'high': [4, 5, 6]}\n",
      "{'low': [1, 2, 3], 'high': [4, 5, 6]}\n",
      "{'low': [1, 2, 3], 'high': [4, 5, 6]}\n",
      "\n",
      "{'low': [10, 20, 30], 'high': [4, 500, 6]}\n",
      "{'low': [10, 20, 30], 'high': [4, 500, 6]}\n",
      "{'low': [1, 2, 3], 'high': [4, 500, 6]}\n"
     ]
    }
   ],
   "source": [
    "L1 = [1, 2, 3]\n",
    "L2 = [4, 5, 6]\n",
    "d = {'low':L1, 'high':L2}\n",
    "e = d\n",
    "f = d.copy()\n",
    "print(d)\n",
    "print(e)\n",
    "print(f)\n",
    "print()\n",
    "d['low'] = [10, 20, 30]\n",
    "d['high'][1] = 500\n",
    "print(d)\n",
    "print(e)\n",
    "print(f)"
   ]
  },
  {
   "cell_type": "markdown",
   "id": "da9ea779",
   "metadata": {},
   "source": [
    "#### 1) 위 코드의 수행 결과 d와 e는 항상 같은 결과를 출력한다. 그 이유는 무엇인가 ?"
   ]
  },
  {
   "cell_type": "markdown",
   "id": "e6e8bb40",
   "metadata": {},
   "source": [
    "- 'e = d'코드를 통해 d가 가리키고있는 객체를 e도 같이 가리키도록 했기 때문이다."
   ]
  },
  {
   "cell_type": "markdown",
   "id": "7ae333ed",
   "metadata": {},
   "source": [
    "#### 2) 위 코드의 수행 결과 마지막 f의 내용은 다음과 같다. 이 때 'high'키의 값 내용 중 500이 출력된 이유와 'low'키의 값 내용 중 [1,2,3]이 출력된 이유를 설명하시오 ([hint] : shallow copy 관점에서 설명하시오.)"
   ]
  },
  {
   "cell_type": "markdown",
   "id": "ec716e63",
   "metadata": {},
   "source": [
    "{'high': [4, 500, 6], 'low': [1, 2, 3]}"
   ]
  },
  {
   "cell_type": "markdown",
   "id": "ed5a21fe",
   "metadata": {},
   "source": [
    "- 'f = d.copy()'에서 사용된 .copy()는 얕은 복사를 하는 함수로, 상위 리스트의 값은 복사하지만 하위리스트는 참조형태로 할당한다. 따라서 이미 복사가 완료된 'low'의 값을 d에서 변경시킨다하더라도 f의 'low'값은 그대로이다. 하지만 'high'에서 하위요소인 5는 f에서도 객체참조로 가져오는 값이기때문에 해당 값을 d를 통해 500으로 변경시킨다면 f에서도 변경되는 것이기 때문이다."
   ]
  },
  {
   "cell_type": "markdown",
   "id": "0b14b9d3",
   "metadata": {},
   "source": [
    "## [일반 문제 7]"
   ]
  },
  {
   "cell_type": "markdown",
   "id": "7a59eb62",
   "metadata": {},
   "source": [
    "사전 d = {'one':1, 'two':2, 'three':3, 'four':4, 'five':5}가 주어졌을 때 다음 요구사항에 맞는 코드를 제시하시오.\n",
    "- [참고] : d.keys(), d.values()를 통해 리스트를 얻어낸 후 리스트가 지니고 있는 sort(cmp=None, key=None, reverse=False) 함수를 활용하시오.\n",
    "-1) 키의 알파벳 오름차순 순서대로 튜플 (키, 값)을 차례대로 출력하시오.\n",
    "-2) 키의 알파벳 내림차순 순서대로 튜플 (키, 값)을 차례대로 출력하시오.\n",
    "-3) 값의 오름차순 순서대로 튜플 (키, 값)을 차례대로 출력하시오.\n",
    "-4) 값의 내림차순 순서대로 튜플 (키, 값)을 차례대로 출력하시오."
   ]
  },
  {
   "cell_type": "code",
   "execution_count": 39,
   "id": "f27e8cee",
   "metadata": {},
   "outputs": [],
   "source": [
    "d = {'one':1, 'two':2, 'three':3, 'four':4, 'five':5}"
   ]
  },
  {
   "cell_type": "code",
   "execution_count": 40,
   "id": "9d3b938c",
   "metadata": {},
   "outputs": [
    {
     "name": "stdout",
     "output_type": "stream",
     "text": [
      "[('one', 1), ('two', 2), ('three', 3), ('four', 4), ('five', 5)]\n"
     ]
    }
   ],
   "source": [
    "a = list(zip(d.keys(),d.values()))\n",
    "print(a)"
   ]
  },
  {
   "cell_type": "code",
   "execution_count": 43,
   "id": "5f89fa95",
   "metadata": {},
   "outputs": [
    {
     "name": "stdout",
     "output_type": "stream",
     "text": [
      "[('five', 5), ('four', 4), ('one', 1), ('three', 3), ('two', 2)]\n",
      "[('two', 2), ('three', 3), ('one', 1), ('four', 4), ('five', 5)]\n",
      "[('one', 1), ('two', 2), ('three', 3), ('four', 4), ('five', 5)]\n",
      "[('five', 5), ('four', 4), ('three', 3), ('two', 2), ('one', 1)]\n"
     ]
    }
   ],
   "source": [
    "def getKey(n):\n",
    "    return n[0]\n",
    "\n",
    "def getValue(n):\n",
    "    return n[1]\n",
    "\n",
    "a.sort(key=getKey)\n",
    "print(a)\n",
    "a.sort(key=getKey, reverse=True)\n",
    "print(a)\n",
    "a.sort(key=getValue)\n",
    "print(a)\n",
    "a.sort(key=getValue, reverse=True)\n",
    "print(a)"
   ]
  },
  {
   "cell_type": "markdown",
   "id": "a5441b85",
   "metadata": {},
   "source": [
    "- 먼저 zip()함수와 list로의 형변환을 통해 사전식 자료형을 튜플로 키와 값이 묶인 리스트로 변환하여 리스트 a에 저장하였습니다. sort()에서 key의 정렬기준을 정해주기위해서 getKey()함수와 getValue()함수를 작성해주었습니다. key의 값을 getKey()로 설정하면 키의 값을 기준으로, getValue()로 설정하면 값을 기준으로 정렬하고, reverse의 값을 True로 설정해주면 역순으로 출력되게 됩니다."
   ]
  },
  {
   "cell_type": "markdown",
   "id": "d7113e34",
   "metadata": {},
   "source": [
    "## [일반 문제 8]"
   ]
  },
  {
   "cell_type": "markdown",
   "id": "6bbd1016",
   "metadata": {},
   "source": [
    "다음 문제를 정확히 읽고 적합한 코딩을 제시하시오."
   ]
  },
  {
   "cell_type": "markdown",
   "id": "0a0ea7fd",
   "metadata": {},
   "source": [
    "- length(X)를 다음과 같이 정의한다 : 10진수로 표현된 X의 자릿수\n",
    "- Strange라는 숫자를 아래와 같이 정의한다.\n",
    "    - 음이 아닌 정수 중 자릿수가 1인 모든 숫자는 Strange이다.\n",
    "    - length(X)>1인 숫자 X는 다음 2가지를 만족하면 Strange이다.\n",
    "        - X는 length(X)로 정확히 나누어떨어진다.\n",
    "        - X/length(X)가 Strange이다.\n",
    "\n",
    "- 이 문제에서 숫자 하나가 주어질 때, 이 숫자가 Strange인지 판단하는 함수 isStrange(num)을 작성하시오.\n",
    "- isStrange(num) 함수가 재귀적인 함수가 되도록 작성해 보세요."
   ]
  },
  {
   "cell_type": "code",
   "execution_count": 427,
   "id": "2314f6b9",
   "metadata": {},
   "outputs": [],
   "source": [
    "def isStrange(num):\n",
    "    integer_base = [0,1,2,3,4,5,6,7,8,9]\n",
    "    length = len(str(int(num)))\n",
    "    if num >= 0 and num in integer_base:\n",
    "        return True\n",
    "    elif num > 9 and num % length == 0 : \n",
    "        return True\n",
    "    elif num > 9 and isStrange(num/length) == True : \n",
    "        return True\n",
    "    else :\n",
    "        return False"
   ]
  },
  {
   "cell_type": "code",
   "execution_count": 428,
   "id": "2146cdde",
   "metadata": {},
   "outputs": [
    {
     "name": "stdout",
     "output_type": "stream",
     "text": [
      "True\n",
      "True\n",
      "False\n",
      "True\n",
      "False\n"
     ]
    }
   ],
   "source": [
    "print(isStrange(0))\n",
    "print(isStrange(56))\n",
    "print(isStrange(100))\n",
    "print(isStrange(7882602506492313600))\n",
    "print(isStrange(6012302549522098651))"
   ]
  },
  {
   "cell_type": "markdown",
   "id": "7691c0f8",
   "metadata": {},
   "source": [
    "- 먼저 음이 아닌 정수 중 자릿수가 1인 모든 숫자가 매개변수로 전달되면 True를 반환하도록 했습니다. 또한 나머지 경우에서 들어온 매개변수가 9보다 크고 그 자릿수로 정확히 나누어떨어질 때에도 True를 반환했습니다. 그리고 9보다 큰 나머지 경우에는 전달된 수를 자릿수로 나눈 값을 다시 검사하도록 재귀적인 방법으로 함수를 다시 호출하였습니다. 그 밖의 경우에는 False를 반환하도록 하였습니다."
   ]
  },
  {
   "cell_type": "markdown",
   "id": "13054231",
   "metadata": {},
   "source": [
    "## [일반 문제 9]"
   ]
  },
  {
   "cell_type": "code",
   "execution_count": 17,
   "id": "9318bda9",
   "metadata": {},
   "outputs": [],
   "source": [
    "def solve(a):\n",
    "    total_pos_seat = []\n",
    "    num = 0\n",
    "    if min(a) == max(a):              # 만약 모든 원소의 값이 같다면\n",
    "        for i in divisor(len(a)):\n",
    "            total_pos_seat.append(i*a[0])    # 원소의 길이의 약수 값에 원소의 값을 곱한 리스트 생성\n",
    "        return total_pos_seat\n",
    "    else :\n",
    "        for i in a:         # 처음항부터 마지막까지 항을 더해서 가능성을 찾음\n",
    "            num += i\n",
    "            if sum(a)%num == 0 and check(num, a) == 1:\n",
    "                total_pos_seat.append(num)\n",
    "        return total_pos_seat\n",
    "\n",
    "def check(seat, lst):     # 리스트 lst를 자리 seat로 앉을 수 있는지 검사함수\n",
    "    num2 = count_len = 0\n",
    "    for i in lst:         # 앞쪽부터 계속해서 더해나감\n",
    "        num2 += i\n",
    "        if num2 == seat:  # 만약 자리수와 앉은 사람수가 같다면 계수 1증가\n",
    "            num2 = 0\n",
    "        elif num2 > seat: # 만약 자리수보다 앉은사람 수가 크면 0반환 (false)\n",
    "            return 0\n",
    "    if num2 == 0 :        # 자리가 딱 떨어지면 1을 반환 (true)\n",
    "        return 1\n",
    "    else : return 0       # 자리가 딱 떨어지지 않으면 0을 반환 (false)\n",
    "    \n",
    "def divisor(div):       # 약수를 구하는 함수\n",
    "    values = [1]\n",
    "    for i in range(2, div+1):\n",
    "        if div%i == 0:\n",
    "            values.append(i)\n",
    "    return values"
   ]
  },
  {
   "cell_type": "code",
   "execution_count": 18,
   "id": "daa2d84e",
   "metadata": {},
   "outputs": [
    {
     "name": "stdout",
     "output_type": "stream",
     "text": [
      "[9999, 19998, 39996, 49995, 79992, 99990, 159984, 199980, 249975, 319968, 399960, 499950, 799920, 999900, 1249875, 1599840, 1999800, 2499750, 3999600, 4999500, 6249375, 7999200, 9999000, 12498750, 19998000, 24997500, 31246875, 39996000, 49995000, 62493750, 99990000, 124987500, 199980000, 249975000, 499950000, 999900000]\n"
     ]
    }
   ],
   "source": [
    "a = [9999]*10**5\n",
    "print(solve(a))"
   ]
  },
  {
   "cell_type": "markdown",
   "id": "09a2dba4",
   "metadata": {},
   "source": [
    "- 먼저 원소들의 값이 모두 같은 경우와 그 외의 경우로 나눠주어서 계산의 복잡도를 낮췄다. 원소의 값이 모두 같으면 최대값과 최소값이 동일하기 때문에 두 값을 비교하여 검사하였고, 이 경우에는 리스트 길이의 약수의 값을 divisor()함수를 이용해 구하고 각각의 약수 값에 원소의 값을 곱한 리스트를 반환하였다. 그 외의 경우에는 어차피 앞팀부터 버스에 타야하기 때문에 앞에서 한 원소씩 더해가며 그 값이 버스의 자리수에 적합한지 검사하였다. 버스의 자리에 적합한지 판단은 check()함수를 만들어서 앞에서부터 한 항씩 더해나갈 때 버스 자리수로 딱딱 맞아떨어지면 적합한 자리값이라고 판단하였다. 그렇게 check()함수로 판단한 값을 리스트에 담아 반환하였다. 이 때 계산해야하는 경우의 수를 미리 줄이기 위해 먼저 입력한 리스트의 전체 합인 sum(a)이 해당 자리수로 나누어떨어지는지 검사한 뒤에 check()함수로 넘겨주었다."
   ]
  },
  {
   "cell_type": "markdown",
   "id": "a4750e14",
   "metadata": {},
   "source": [
    "## [Incremental Porject 문제]"
   ]
  },
  {
   "cell_type": "code",
   "execution_count": 349,
   "id": "29cb3da5",
   "metadata": {},
   "outputs": [],
   "source": [
    "def el_and_replace(source, start, end, a = \"\", b = \"\"): # source에서  start부터 end까지 지우고, a를 b로 대체하게 하는 함수\n",
    "    pure_text_list = []\n",
    "    flag = 0\n",
    "    for i in range(len(source)):\n",
    "        if source[i] == start:                  # 문자열의 원소가 지정한 시작점과 일치하면 flag에 0 저장\n",
    "            flag = 1\n",
    "        elif flag == 0:                         # 만약 flag가 0이라면 만들어놓은 리스트 뒤쪽으로 저장\n",
    "            pure_text_list.append(source[i])\n",
    "        elif source[i] == end:                  # 문자열의 원소가 지정한 끝점과 일치하면 flag에 0 저장\n",
    "            flag = 0\n",
    "    pure_text = ''.join(pure_text_list)         # 만들어진 리스트를 문자열로 이어붙여서 저장\n",
    "    pure_text = pure_text.replace(a, b)         # 문자열 중에서 a를 b로 대체하여 저장\n",
    "    return pure_text                            # 완성된 문자열을 반환\n",
    "            \n",
    "def remove_punc(lst):\n",
    "    index = 0\n",
    "    for i in lst:                         # 리스트의 요소들을 차례대로 i에 저장하며 반복\n",
    "        for j in list(i):                 # i를 리스트로 변환하여 한글자씩 j에 저장\n",
    "            if j.isalnum() == False :     # 글자 j가 구두문자일 때\n",
    "                lst[index] = lst[index].replace(j, \"\",1)   # 구두문자 j를 삭제한 i로 대체, 1개만\n",
    "        index += 1\n",
    "    lst = ' '.join(lst).split()           # 비어있는 요소가 있다면 join으로 붙였다 떼면서 제거\n",
    "    return lst\n",
    "\n",
    "def list_to_dict(lst):\n",
    "    dic = {}\n",
    "    for i in range(len(lst)):\n",
    "        if lst[i] not in dic:\n",
    "            dic[lst[i]] = 1\n",
    "        else :\n",
    "            dic[lst[i]] += 1\n",
    "    return dic"
   ]
  },
  {
   "cell_type": "code",
   "execution_count": 358,
   "id": "6054bd5f",
   "metadata": {},
   "outputs": [],
   "source": [
    "import requests\n",
    "\n",
    "def pure_texting(url):     # 페이지소스를 가져와 순수 문자열로 변환하는 함수\n",
    "    \n",
    "    req = requests.get(url) # 홈페이지의 소스를 저장\n",
    "\n",
    "    source1 = req.text\n",
    "    \n",
    "    source1 = source1.replace(\"<style>\", \"<\")\n",
    "    source1 = source1.replace(\"</style>\", \">\")\n",
    "    source1 = source1.replace(\"<script>\", \"<\")\n",
    "    source1 = source1.replace(\"</script>\", \">\")      # 시작과 끝은 <과 >로 변경\n",
    "    \n",
    "    source1 = el_and_replace(source1, '<', '>', \"\\n\", \" \")  # <부터 >까지 지우고 \\n을 공백으로 대체\n",
    "    \n",
    "    source1 = el_and_replace(source1, '[', ']', \"\\r\", \" \")  # [부터 ]까지 지우고 \\r을 공백으로 대체\n",
    "    \n",
    "    source1 = el_and_replace(source1, '{', '}', \"\\t\", \" \")\n",
    "    \n",
    "    source1 = el_and_replace(source1, '(', ')', \"document.\", \"<\")\n",
    "    \n",
    "    source1 = el_and_replace(source1, '&', \";\", \"._\", \"&\")\n",
    "    \n",
    "    source1 = el_and_replace(source1, '&', ':', \"var\", \"<\")\n",
    "    \n",
    "    source1 = source1.replace(\"window.\", \"<\")   # window.을 <로 대체\n",
    "    \n",
    "    source1 = el_and_replace(source1, '<', ';') # <부터 ;까지 삭제\n",
    "    \n",
    "    for i in range(30):                         # 단어 사이의 큰 공백들을 한개의 공백으로 대체하는 반복문\n",
    "        source1 = source1.replace(\"  \", \" \")\n",
    "    \n",
    "    source1 = source1.split()       # 공백 기준으로 나눠서 리스트 생성\n",
    "    \n",
    "    source1 = remove_punc(source1)  # 구두문자 제거\n",
    "    \n",
    "    source1_dict = list_to_dict(source1)\n",
    "    \n",
    "    return source1_dict"
   ]
  },
  {
   "cell_type": "code",
   "execution_count": 366,
   "id": "6ac0ef4a",
   "metadata": {},
   "outputs": [],
   "source": [
    "#print(pure_texting('https://www.naver.com/'))"
   ]
  },
  {
   "cell_type": "code",
   "execution_count": 367,
   "id": "fccd6461",
   "metadata": {},
   "outputs": [],
   "source": [
    "#print(pure_texting('http://cse.koreatech.ac.kr'))"
   ]
  },
  {
   "cell_type": "code",
   "execution_count": 368,
   "id": "6eaabd3d",
   "metadata": {},
   "outputs": [],
   "source": [
    "#print(pure_texting('https://www.koreatech.ac.kr'))"
   ]
  },
  {
   "cell_type": "code",
   "execution_count": 369,
   "id": "c960c2fe",
   "metadata": {},
   "outputs": [],
   "source": [
    "#print(pure_texting('http://www.daum.net'))"
   ]
  },
  {
   "cell_type": "code",
   "execution_count": 370,
   "id": "e652ce38",
   "metadata": {},
   "outputs": [],
   "source": [
    "#print(pure_texting('http://www.nytimes.com'))"
   ]
  },
  {
   "cell_type": "markdown",
   "id": "8a44ab8b",
   "metadata": {},
   "source": [
    "- 먼저 추가적으로 CSS와 Javascript내용을 모두 괄호의 시작과 끝으로 바꾸어 제거해줬다. 그리고 remove_punc()함수를 추가해서 리스트의 각 요소들을 검사하여 구두문자가 있으면 삭제하고 저장했으며, 그로인해 아예 빈 요소가 되었으면 join과 split을 이용해서 붙였다 떼는 방식으로 제거해줬다. 그 후에 리스트를 차례대로 사전식 자료형의 키값으로 그 값인 1과 함께 넣고, 이전에 넣었으면 그 값을 1 증가시켜준다."
   ]
  },
  {
   "cell_type": "markdown",
   "id": "13eb81b9",
   "metadata": {},
   "source": [
    "## 느낀점"
   ]
  },
  {
   "cell_type": "markdown",
   "id": "4d6b0cbd",
   "metadata": {},
   "source": [
    "- 이 과제를 하면서 배웠지만 잘 사용해보지 못하거나 직접 찾아봐야 알 수 있는 함수나 방법들을 익히게 되어서 실력을 키우는데에 큰 도움이 되는 것 같습니다. 또한 필요한 함수들을 직접 만들어가며 사용해보니 편하다는 생각이 들었습니다. 그리고 학기과제를 하면서 앞으로 어떻게 코드를 짜나갈지 염두에 두고 코드를 짜야 나중에 다시 바꿀지 않아도 된다는 것을 깨달았습니다."
   ]
  }
 ],
 "metadata": {
  "kernelspec": {
   "display_name": "Python 3",
   "language": "python",
   "name": "python3"
  },
  "language_info": {
   "codemirror_mode": {
    "name": "ipython",
    "version": 3
   },
   "file_extension": ".py",
   "mimetype": "text/x-python",
   "name": "python",
   "nbconvert_exporter": "python",
   "pygments_lexer": "ipython3",
   "version": "3.8.8"
  }
 },
 "nbformat": 4,
 "nbformat_minor": 5
}
