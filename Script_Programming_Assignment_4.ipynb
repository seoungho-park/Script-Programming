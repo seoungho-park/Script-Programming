{
 "cells": [
  {
   "cell_type": "markdown",
   "id": "ce92e763",
   "metadata": {},
   "source": [
    "# Assignment_4"
   ]
  },
  {
   "cell_type": "markdown",
   "id": "1982c582",
   "metadata": {},
   "source": [
    "### 2018136037_박성호"
   ]
  },
  {
   "cell_type": "markdown",
   "id": "0ab5a74e",
   "metadata": {},
   "source": [
    "## [일반문제1]"
   ]
  },
  {
   "cell_type": "markdown",
   "id": "f45d8f78",
   "metadata": {},
   "source": [
    "다음 문제를 읽고 알맞은 코드를 제시하시오."
   ]
  },
  {
   "cell_type": "markdown",
   "id": "e7671025",
   "metadata": {},
   "source": [
    "- 1) 파일 s.txt 내의 다음 내용과 함계 아래 문제의 코드를 제시하시오."
   ]
  },
  {
   "cell_type": "markdown",
   "id": "f3fd8647",
   "metadata": {},
   "source": [
    "pig name\\\n",
    "cat dog\\\n",
    "ham bird\\\n",
    "dog pig"
   ]
  },
  {
   "cell_type": "code",
   "execution_count": 10,
   "id": "43323b93",
   "metadata": {},
   "outputs": [],
   "source": [
    "f = open(\"s.txt\", 'w')\n",
    "f.write(\"pig ham\\ncat dog\\nham bird\\ndog pig\\n\")\n",
    "f.close()"
   ]
  },
  {
   "cell_type": "markdown",
   "id": "e1868ffb",
   "metadata": {},
   "source": [
    "    - 파일을 열고 줄바꿈을 위한 '\\n'을 포함한 문자열을 적고 파일을 닫아주었다."
   ]
  },
  {
   "cell_type": "markdown",
   "id": "1aa06f12",
   "metadata": {},
   "source": [
    "- 2) 파일 s.txt을 읽어서 각 라인에 있는 첫 번째 단어(문자열) 자체들을 기준을 라인별 정렬후 파일 s1.txt에 그 결과를 기록하는 코드를 작성하시오. 즉, 프로그램 수행 후 s2.txt에 있는 파일 내용은 다음과 같다."
   ]
  },
  {
   "cell_type": "markdown",
   "id": "052dc1ad",
   "metadata": {},
   "source": [
    "cat dog\\\n",
    "dog pig\\\n",
    "ham bird\\\n",
    "pig ham"
   ]
  },
  {
   "cell_type": "code",
   "execution_count": 11,
   "id": "4895df44",
   "metadata": {},
   "outputs": [],
   "source": [
    "f = open(\"s.txt\", 'r')\n",
    "f_lines = f.readlines()\n",
    "f.close()\n",
    "f_lines.sort()\n",
    "f1 = open(\"s1.txt\", 'w')\n",
    "f1.writelines(f_lines)\n",
    "f1.close()"
   ]
  },
  {
   "cell_type": "markdown",
   "id": "8c3045ca",
   "metadata": {},
   "source": [
    "    - 기존의 파일을 열고 한줄씩 읽어온 뒤에 파일을 닫고, 리스트의 정렬을 이용해서 정렬한 뒤에 s1.txt파일을 열어서 한줄씩 적고 닫아주었다."
   ]
  },
  {
   "cell_type": "markdown",
   "id": "6152db2c",
   "metadata": {},
   "source": [
    "- 3) 파일 s.txt을 읽어서 각 라인에 있는 두 번째 단어(문자열) 자체들을 기준으로 라인별 정렬후 파일 s2.txt에 그 결과를 기록하는 코드를 작성하시오. 즉, 프로그램 수행 후 s2.txt에 있는 파일 내용은 다음과 같다."
   ]
  },
  {
   "cell_type": "markdown",
   "id": "ea2f8219",
   "metadata": {},
   "source": [
    "ham bird\\\n",
    "cat dog\\\n",
    "pig ham\\\n",
    "dog pig"
   ]
  },
  {
   "cell_type": "code",
   "execution_count": 49,
   "id": "98238a66",
   "metadata": {},
   "outputs": [],
   "source": [
    "f = open(\"s.txt\", 'r')\n",
    "f_lines = f.readlines()\n",
    "f.close()\n",
    "f_lines.sort(key = lambda a: a[4:])\n",
    "f1 = open(\"s2.txt\", 'w')\n",
    "f1.writelines(f_lines)\n",
    "f1.close()"
   ]
  },
  {
   "cell_type": "markdown",
   "id": "1d894e46",
   "metadata": {},
   "source": [
    "    - 파일을 열어서 한줄씩 읽어온 뒤에 닫고, 읽어온 내용들을 람다함수와 sort()의 key를 이용하여 4번째부터인 두번째 단어를 이용하여 정렬하고 s2.txt파일에 저장한다."
   ]
  },
  {
   "cell_type": "markdown",
   "id": "13529de1",
   "metadata": {},
   "source": [
    "- 4) 파일 s.txt을 읽어서 각 라인들에 있는 모든 단어들을 순차적으로 다시 나열하되 각 라인에 세 개의 단어들이 오도록 하여 s3.txt에 기록하는 코드를 작성하시오. 즉, 프로그램 수행 후 s3.txt에 있는 파일 내용은 다음과 같다."
   ]
  },
  {
   "cell_type": "markdown",
   "id": "a27f744f",
   "metadata": {},
   "source": [
    "pig ham cat\\\n",
    "dog ham bird\\\n",
    "dog pig"
   ]
  },
  {
   "cell_type": "code",
   "execution_count": 13,
   "id": "4e9af80d",
   "metadata": {},
   "outputs": [],
   "source": [
    "f = open(\"s.txt\", 'r')\n",
    "f_lines = f.readlines()\n",
    "f.close()\n",
    "f1_lines = []\n",
    "f2_lines = []\n",
    "for i in f_lines:\n",
    "    f1_lines.append(i.replace('\\n', '').split())\n",
    "for i in f1_lines:\n",
    "    for n in i:\n",
    "        f2_lines.append(n)\n",
    "f2_lines.sort()\n",
    "f = open(\"s3.txt\", 'w')\n",
    "for i in range(len(f2_lines)):\n",
    "    f.write(f2_lines[i] + ' ')\n",
    "    if (i+1)%3==0:\n",
    "        f.write('\\n')\n",
    "f.close()"
   ]
  },
  {
   "cell_type": "markdown",
   "id": "ba2f53aa",
   "metadata": {},
   "source": [
    "    - 파일을 읽어들여서 리스트에 저장한 뒤에 각각의 단어에 줄바꿈문자가 있으면 제거하고 정렬해서 3번째마다 줄바꿈문자를 다시 붙여준 뒤에 파일에 써넣었다."
   ]
  },
  {
   "cell_type": "markdown",
   "id": "540c114e",
   "metadata": {},
   "source": [
    "## [일반문제2]"
   ]
  },
  {
   "cell_type": "markdown",
   "id": "1980b58e",
   "metadata": {},
   "source": [
    "다음과 같은 조건들을 참고하여 회원 가입 및 로그인 프로그램을 작성하시오."
   ]
  },
  {
   "cell_type": "markdown",
   "id": "21ef4f12",
   "metadata": {},
   "source": [
    "- 1) 프로그램 시작 후 다음과 같은 메시지가 출력되어 1, 2, 3 중 하나의 값을 입력 받도록 한다."
   ]
  },
  {
   "cell_type": "markdown",
   "id": "86080a92",
   "metadata": {},
   "source": [
    "Welcome to Our Service\\\n",
    "\\\n",
    "A. Sign Up\\\n",
    "B. Sign In\\\n",
    "C. Quit"
   ]
  },
  {
   "cell_type": "markdown",
   "id": "b1875b99",
   "metadata": {},
   "source": [
    "- 2) 1을 선택하면 ID, Password, Name, School의 4가지 정보를 입력받아 파일에 저장하는 프로그램을 작성한다.\n",
    "    - 2-1) 입력된 내용은 access.txt 라는 이름의 텍스트 파일 내에 저장된다.\n",
    "    - 2-2) access.txt 파일의 각 라인에는 가입된 회원 각각의 정보가 \"[id]:[password],[name],[school]\" 형태로 저장된다.\n",
    "    - 2-3) 즉, 가입 회원이 10명이면 access.txt 파일 내에 라인 수도 정확히 10개이다.\n",
    "    - 2-4) 암호화 방식은 sha 모듈을 활용한다. sha모듈 활용방법은 본 문제의 마지막에 제시된 sha 활용 예를 참고한다.\n",
    "        - 즉, access.txt파일 내에 password 정보는 암호화 되어 저장되어야한다.\n",
    "    - 2-5) 회원 정보를 입력받을 때 id를 입력 받은 직후 access.txt를 확인하여 이미 존재하는 id가 입력되었다면 다음 메시지를 출력하고 id정보를 다시 입력받는다.\n",
    "        - Sorry, the entered ID is already used."
   ]
  },
  {
   "cell_type": "markdown",
   "id": "2c34d17b",
   "metadata": {},
   "source": [
    "- 3) 2를 선택하면 ID, Password의 2가지 정보를 입력받는 프로그램을 작성한다.\n",
    "    - 3-1) 입력된 ID 정보가 access.txt에 존재하지 않으면 다음과 같은 메시지를 출력하고 다시 입력받는다.\n",
    "        - Sorry, you are not a registered member.\n",
    "    - 3-2) 입력된 ID가 올바르게 존재하지만 Password 정보가 access.txt파일에 있는 정보와 불일치하면 다음과 같은 메시지를 출력하고 Password를 다시 입력받는다.\n",
    "        - Sorry, the entered password is not correct.\n",
    "        - 이 때에도 사용자가 입력한 Password 정보와 함께 sha 모듈이 활용되어야한다.\n",
    "    - 3-3) 입력된 ID와 Password가 모두 올바르면 다음과 같은 메시지를 출력한다.\n",
    "        - Hello [name]!\n",
    "        - 위 [name]에는 access.txt에 기록되어있는 name 정보를 출력한다."
   ]
  },
  {
   "cell_type": "markdown",
   "id": "c01a95dc",
   "metadata": {},
   "source": [
    "- 4) 3을 선택하면 프로그램이 끝난다."
   ]
  },
  {
   "cell_type": "code",
   "execution_count": null,
   "id": "311e499e",
   "metadata": {},
   "outputs": [],
   "source": [
    "f = open(\"access.txt\", 'w')    # 최초 한번만 시행\n",
    "f.close()"
   ]
  },
  {
   "cell_type": "markdown",
   "id": "2f377a7e",
   "metadata": {},
   "source": [
    "    - access.txt파일을 최초 한번만 실행하기 위해 따로 마련해놨다."
   ]
  },
  {
   "cell_type": "code",
   "execution_count": 57,
   "id": "7384c8aa",
   "metadata": {},
   "outputs": [],
   "source": [
    "import hashlib\n",
    "\n",
    "def MenuA():\n",
    "    # 입력받아 요소별 리스트 생성\n",
    "    info_str = input(\"ID, Password, Name, School을 입력하시오 : \")\n",
    "    info_list = info_str.split()\n",
    "    \n",
    "    # 암호화, 포맷설정으로 저장형식의 문자열 생성\n",
    "    info_list[1] = hashlib.sha256(info_list[1].encode()).hexdigest()\n",
    "    info_inf = \"[{}] : [{}], [{}], [{}]\\n\".format(info_list[0], info_list[1], info_list[2], info_list[3])\n",
    "    \n",
    "    # 이미 있는 데이터인지 비교\n",
    "    f = open(\"access.txt\", 'r')\n",
    "    f_read = f.readlines()\n",
    "    for i in f_read:\n",
    "        if (i == info_inf):\n",
    "            f.close()\n",
    "            print(\"Sorry, the entered ID is already used.\")\n",
    "            MenuA()             # 있는 데이터이면 함수 다시 실행\n",
    "    \n",
    "    # 파일을 열어서 데이터 저장\n",
    "    f = open(\"access.txt\", 'a')\n",
    "    f.writelines(info_inf)\n",
    "    f.close()"
   ]
  },
  {
   "cell_type": "markdown",
   "id": "3a8995ee",
   "metadata": {},
   "source": [
    "    - 각각의 정보요소들을 입력받아 요소별로 나누어 리스트를 생성하였고, password는 암호화하였고, 제시된 형식에 맞도록 저장하기 위해 format를 이용하였다. 그리고 이미 있는 데이터인지 비교하기 위해 파일을 열고 읽어들여서 각각의 줄에 있는 정보와 비교해서 이미 있는 데이터면 다시 반복되도록 while()문을 이용했다. 그리고 없는 데이터면 파일을 'a'모드로 열어서 추가해주었다."
   ]
  },
  {
   "cell_type": "code",
   "execution_count": 52,
   "id": "53907e50",
   "metadata": {},
   "outputs": [],
   "source": [
    "import hashlib\n",
    "\n",
    "def MenuB():\n",
    "    while(True):\n",
    "        # 입력받아서 해당 포맷으로 변경\n",
    "        account = input(\"ID, Password를 입력하시오 : \").split()\n",
    "        account[1] = hashlib.sha256(account[1].encode()).hexdigest()\n",
    "        account_ID = \"[{}] :\".format(account[0])\n",
    "    \n",
    "        # 존재하지 않는 정보면 다시 재귀호출\n",
    "        f = open(\"access.txt\", 'r')\n",
    "        f_lines = f.readlines()\n",
    "        f.close()\n",
    "        count = 0\n",
    "        for i in f_lines:\n",
    "            if account_ID in i:\n",
    "                global correct_info \n",
    "                correct_info= i.split()\n",
    "                break\n",
    "            else: count += 1\n",
    "        # 일치하는 정보가 없을 때\n",
    "        if(count==len(f_lines)):\n",
    "            print(\"Sorry, you are not a registered member.\")\n",
    "        # 일치하는 정보가 있을 때\n",
    "        else: break\n",
    "\n",
    "\n",
    "    # 사용자에게서 입력받은 PW가 올바를때까지 반복\n",
    "    while(True):\n",
    "        if(\"[{}]\".format(account[1]) == correct_info[2][:-1]):\n",
    "            print(\"Hello\", correct_info[3][0:-1],\"!\")\n",
    "            break\n",
    "        else:\n",
    "            print(\"Sorry, the entered password is not correct.\")\n",
    "            account_pw = input(\"Password를 다시 입력하시오 : \")\n",
    "            account[1] = hashlib.sha256(account_pw.encode()).hexdigest()"
   ]
  },
  {
   "cell_type": "markdown",
   "id": "94b2db94",
   "metadata": {},
   "source": [
    "    - 메뉴 B를 받으면 ID와 Password를 받아들여서 파일을 열어서 먼저 ID를 비교해서 일치하는 정보가 없으면 다시 반복문을 실행해서 다시 입력받고, 일치하는 정보가 있으면 password를 비교해서 일치하지 않으면 다시 받아들이고, 일치하면 이름을 출력한다. 각 암호관련 코드들은 암호화해서 진행된다."
   ]
  },
  {
   "cell_type": "code",
   "execution_count": 58,
   "id": "5212b285",
   "metadata": {},
   "outputs": [
    {
     "name": "stdout",
     "output_type": "stream",
     "text": [
      "Welcome to Our Service\n",
      "\n",
      "    A. Sign Up\n",
      "    B. Sign In\n",
      "    C. Quit\n",
      "    A\n",
      "ID, Password, Name, School을 입력하시오 : 2020 psh 박성호 한기대\n",
      "Sorry, the entered ID is already used.\n",
      "ID, Password, Name, School을 입력하시오 : 2022 psh 박성호 한기대\n",
      "Sorry, the entered ID is already used.\n",
      "ID, Password, Name, School을 입력하시오 : 2023 psh 박성호 한기대\n"
     ]
    }
   ],
   "source": [
    "def SelecMenu():\n",
    "    menu = input('''Welcome to Our Service\n",
    "\n",
    "    A. Sign Up\n",
    "    B. Sign In\n",
    "    C. Quit\n",
    "    ''')\n",
    "\n",
    "    if ( menu == 'A'):\n",
    "        MenuA()\n",
    "    elif(menu=='B'):\n",
    "        MunuB()\n",
    "    elif(menu=='C'):\n",
    "        return 0\n",
    "    \n",
    "SelecMenu()"
   ]
  },
  {
   "cell_type": "markdown",
   "id": "8b85592d",
   "metadata": {},
   "source": [
    "    - 메뉴를 위한 함수이고, 입력받는 알파벳에 따라 각각의 함수를 실행시킨다."
   ]
  },
  {
   "cell_type": "markdown",
   "id": "01f13952",
   "metadata": {},
   "source": [
    "## [일반문제3]"
   ]
  },
  {
   "cell_type": "markdown",
   "id": "ca3c286a",
   "metadata": {},
   "source": [
    "1. range() 함수와 유사한 frange()함수를 다음 조건을 참고하여 만드시오."
   ]
  },
  {
   "cell_type": "markdown",
   "id": "8cc2fa01",
   "metadata": {},
   "source": [
    "- 1) frange()의 인자 구성은 다음과 같이 range와 동일하지만 각 인수들은 음수를 받지 않는다고 가정한다.\n",
    "       range(stop)\n",
    "       range(start, stop[, step])\n",
    "- 2) frange() 함수의 인자에 대한 기본 시작(start)값은 0.0이고, 기본 단계(step) 값은 0.1이다.\n",
    "- 3) frange() 사용 예\n",
    "    - 3-1) frange(0.5)\n",
    "        - [0.0, 0.1, 0.2, 0.3, 0.4]\n",
    "    - 3-2) frange(1.0, 2.0)\n",
    "        - [1.0, 1.1, 1.2, 1.3, 1.4, 1.5, 1.6, 1.7, 1.8, 1.9]\n",
    "    - 3-3) frange(2.2, 4.0, 0.5)\n",
    "        - [2.2, 2.7, 3.2, 3.7]"
   ]
  },
  {
   "cell_type": "code",
   "execution_count": 113,
   "id": "843a715d",
   "metadata": {},
   "outputs": [],
   "source": [
    "import math\n",
    "\n",
    "def frange(start, stop=0.0, step=0.1):\n",
    "    if(stop==0.0):\n",
    "        start, stop = stop, start\n",
    "    list = [start]\n",
    "    value = start\n",
    "    for i in range(int(start*10), int(stop*10)-int(step*10), int(step*10)):\n",
    "        value = round(value+step, 2)\n",
    "        list.append(value)\n",
    "    return list"
   ]
  },
  {
   "cell_type": "code",
   "execution_count": 116,
   "id": "0d23275b",
   "metadata": {},
   "outputs": [
    {
     "name": "stdout",
     "output_type": "stream",
     "text": [
      "[1.0, 1.1, 1.2, 1.3, 1.4, 1.5, 1.6, 1.7, 1.8, 1.9]\n"
     ]
    }
   ],
   "source": [
    "print(frange(1.0, 2.0))"
   ]
  },
  {
   "cell_type": "markdown",
   "id": "fc912549",
   "metadata": {},
   "source": [
    "    - 매개변수로 입력되는 stop과 step 은 기본매개변수로 지정하고 하나만 전달되면 stop로 사용하고 두개가 전달되면 start와 stop으로, 세개가 전달되면 step까지 사용해서 해당 함수를 진행한다. 0.3 등의 수는 0.300000000000004와 같이 나오기 때문에 math모듈의 round()를 사용해 반올림해서 나타냈다. 그리고 리스트에 담아서 반환한다."
   ]
  },
  {
   "cell_type": "markdown",
   "id": "25cc8256",
   "metadata": {},
   "source": [
    "## [일반문제4]"
   ]
  },
  {
   "cell_type": "markdown",
   "id": "a0b87b09",
   "metadata": {},
   "source": [
    "1. 가변인수를 받는 함수 sum()을 다음과 같은 조건을 참고하여 구현하시오"
   ]
  },
  {
   "cell_type": "markdown",
   "id": "e6c31fec",
   "metadata": {},
   "source": [
    "- sum() 사용 예\n",
    "    sum()\\\n",
    "    0\n",
    "    \n",
    "    sum(1,2)\\\n",
    "    3\n",
    "    \n",
    "    sum(1, 2, 3, 4, 5)\\\n",
    "    15\n",
    "    \n",
    "    sum(1, 5, 7, 2, -10)\\\n",
    "    5"
   ]
  },
  {
   "cell_type": "code",
   "execution_count": 124,
   "id": "b0836d52",
   "metadata": {},
   "outputs": [],
   "source": [
    "def sum(zero = 0, *a):\n",
    "    sum_num = zero\n",
    "    for i in range(len(a)):\n",
    "        sum_num += a[i]\n",
    "    return sum_num"
   ]
  },
  {
   "cell_type": "code",
   "execution_count": 125,
   "id": "7f27179b",
   "metadata": {},
   "outputs": [
    {
     "name": "stdout",
     "output_type": "stream",
     "text": [
      "0\n",
      "3\n",
      "15\n",
      "5\n"
     ]
    }
   ],
   "source": [
    "print(sum())\n",
    "print(sum(1,2))\n",
    "print(sum(1, 2, 3, 4, 5))\n",
    "print(sum(1, 5, 7, 2, -10))"
   ]
  },
  {
   "cell_type": "markdown",
   "id": "e0ff240e",
   "metadata": {},
   "source": [
    "    - 기본매개변수 0을 설정해서 아무것도 전달안되면 0을 출력하게 하고, 가변인수를 이용해서 처음부터 다 더하고 반환하는 함수이다."
   ]
  },
  {
   "cell_type": "markdown",
   "id": "5495b077",
   "metadata": {},
   "source": [
    "## [일반문제5]"
   ]
  },
  {
   "cell_type": "markdown",
   "id": "97c5921e",
   "metadata": {},
   "source": [
    "1. 여러 단어로 이루어진 문자열을 입력받아 각 단어의 첫글자로 이루어진 단어를 대문자로 출력하는 myinitial() 함수를 다음 조건을 참고하여 작성하시오.\n",
    "    - 1) 다음에 제시되는 함수들을 모두 이용해야한다.\n",
    "        - split\n",
    "        - map\n",
    "        - join\n",
    "    - 2) myinitial() 함수 사용 예\n",
    "        - myinitial(\"as soon as possible\")\n",
    "            - ASAP"
   ]
  },
  {
   "cell_type": "code",
   "execution_count": 37,
   "id": "b093489c",
   "metadata": {},
   "outputs": [
    {
     "name": "stdout",
     "output_type": "stream",
     "text": [
      "ASAP\n"
     ]
    }
   ],
   "source": [
    "def myinitial(str):\n",
    "    return ''.join(list(map(lambda x:x[0].upper() ,str.split())))\n",
    "\n",
    "print(myinitial(\"as soon as possible\"))"
   ]
  },
  {
   "cell_type": "markdown",
   "id": "795e5064",
   "metadata": {},
   "source": [
    "    - 문자열을 받아오면 split()을 이용해 공백을 기준으로 나누고, 람다함수를 이용해서 첫글자를 대문자로 변환시켜서 map으로 각각의 단어들을 매칭시킨다. 그리고 join을 이용해서 붙여서 반환한다."
   ]
  },
  {
   "cell_type": "markdown",
   "id": "8c5de039",
   "metadata": {},
   "source": [
    "## [일반문제6]"
   ]
  },
  {
   "cell_type": "markdown",
   "id": "fde029c7",
   "metadata": {},
   "source": [
    "1. 음이 아닌 정수 n을 입력받으면 n! (factorial) 을 계산하는 myfact() 함수를 재귀적 함수로 구현하시오.\n",
    "    - [옵션] 참을 수 있는 정도 만큼의 수행시간을 직접 기다려보면서 n을 늘려보도록 합시다."
   ]
  },
  {
   "cell_type": "code",
   "execution_count": 134,
   "id": "5a89185b",
   "metadata": {},
   "outputs": [
    {
     "name": "stdout",
     "output_type": "stream",
     "text": [
      "120\n"
     ]
    }
   ],
   "source": [
    "def myfact(n):\n",
    "    if(n==0): return 0\n",
    "    elif(n>1): return n*myfact(n-1)\n",
    "    elif(n==1): return 1\n",
    "    \n",
    "print(myfact(5))"
   ]
  },
  {
   "cell_type": "markdown",
   "id": "bc416297",
   "metadata": {},
   "source": [
    "    - 음이 아닌 정수기 때문에 0이 들어오면 0을 반환하고, 1보다 크면 그 수와 -1된 수를 곱하면서 재귀호출을 진행하고 1이면 1을 반환하는 함수이다."
   ]
  },
  {
   "cell_type": "markdown",
   "id": "6da860c8",
   "metadata": {},
   "source": [
    "## [일반문제7]"
   ]
  },
  {
   "cell_type": "markdown",
   "id": "930b7ba1",
   "metadata": {},
   "source": [
    "1. (서술형) import string과 from string import * 의 차이점을 설명하시오."
   ]
  },
  {
   "cell_type": "markdown",
   "id": "9cc1368a",
   "metadata": {},
   "source": [
    "- 먼저 단순한 import string는 string 모듈 전체를 가져오는 것이고, from string import *는 string 모듈에선 *만 가져온다는 뜻인데 *는 해당 범위의 내용을 모두 가리키는 것이기 때문에 string모듈 내의 전체 내용을 가져온다고 생각하면 된다. 전자는 모듈 내의 멤버변수나 함수를 사용하려면 string.(멤버변수나 함수명)과 같이 사용해야하지만 후자의 경우 모듈명 없이 (멤버변수나 함수명)으로 바로 사용할 수 있다. 후자의 경우가 더 편리해보이지만 사용하는 곳에 이전에 동일한 이름이 있었다면 import한 모듈에 있는 멤버변수나 함수로 대체된다는 단점이 있다."
   ]
  },
  {
   "cell_type": "markdown",
   "id": "beba1420",
   "metadata": {},
   "source": [
    "## [Incremental Project 문제]"
   ]
  },
  {
   "cell_type": "code",
   "execution_count": null,
   "id": "e341edc1",
   "metadata": {},
   "outputs": [],
   "source": [
    "def el_and_replace(source, start, end, a = \"\", b = \"\"): # source에서  start부터 end까지 지우고, a를 b로 대체하게 하는 함수\n",
    "    pure_text_list = []\n",
    "    flag = 0\n",
    "    for i in range(len(source)):\n",
    "        if source[i] == start:                  # 문자열의 원소가 지정한 시작점과 일치하면 flag에 0 저장\n",
    "            flag = 1\n",
    "        elif flag == 0:                         # 만약 flag가 0이라면 만들어놓은 리스트 뒤쪽으로 저장\n",
    "            pure_text_list.append(source[i])\n",
    "        elif source[i] == end:                  # 문자열의 원소가 지정한 끝점과 일치하면 flag에 0 저장\n",
    "            flag = 0\n",
    "    pure_text = ''.join(pure_text_list)         # 만들어진 리스트를 문자열로 이어붙여서 저장\n",
    "    pure_text = pure_text.replace(a, b)         # 문자열 중에서 a를 b로 대체하여 저장\n",
    "    return pure_text                            # 완성된 문자열을 반환\n",
    "            \n",
    "def remove_punc(lst):\n",
    "    index = 0\n",
    "    for i in lst:                         # 리스트의 요소들을 차례대로 i에 저장하며 반복\n",
    "        for j in list(i):                 # i를 리스트로 변환하여 한글자씩 j에 저장\n",
    "            if j.isalnum() == False :     # 글자 j가 구두문자일 때\n",
    "                lst[index] = lst[index].replace(j, \"\",1)   # 구두문자 j를 삭제한 i로 대체, 1개만\n",
    "        index += 1\n",
    "    lst = ' '.join(lst).split()           # 비어있는 요소가 있다면 join으로 붙였다 떼면서 제거\n",
    "    return lst\n",
    "\n",
    "def list_to_dict(lst):\n",
    "    dic = {}\n",
    "    for i in range(len(lst)):\n",
    "        if lst[i] not in dic:\n",
    "            dic[lst[i]] = 1\n",
    "        else :\n",
    "            dic[lst[i]] += 1\n",
    "    return dic"
   ]
  },
  {
   "cell_type": "code",
   "execution_count": null,
   "id": "f6fb1a5d",
   "metadata": {},
   "outputs": [],
   "source": [
    "import requests\n",
    "\n",
    "def pure_texting(url):     # 페이지소스를 가져와 순수 문자열로 변환하는 함수\n",
    "    \n",
    "    req = requests.get(url) # 홈페이지의 소스를 저장\n",
    "\n",
    "    source1 = req.text\n",
    "    \n",
    "    source1 = source1.replace(\"<style>\", \"<\")\n",
    "    source1 = source1.replace(\"</style>\", \">\")\n",
    "    source1 = source1.replace(\"<script>\", \"<\")\n",
    "    source1 = source1.replace(\"</script>\", \">\")      # 시작과 끝은 <과 >로 변경\n",
    "    \n",
    "    source1 = el_and_replace(source1, '<', '>', \"\\n\", \" \")  # <부터 >까지 지우고 \\n을 공백으로 대체\n",
    "    \n",
    "    source1 = el_and_replace(source1, '[', ']', \"\\r\", \" \")  # [부터 ]까지 지우고 \\r을 공백으로 대체\n",
    "    \n",
    "    source1 = el_and_replace(source1, '{', '}', \"\\t\", \" \")\n",
    "    \n",
    "    source1 = el_and_replace(source1, '(', ')', \"document.\", \"<\")\n",
    "    \n",
    "    source1 = el_and_replace(source1, '&', \";\", \"._\", \"&\")\n",
    "    \n",
    "    source1 = el_and_replace(source1, '&', ':', \"var\", \"<\")\n",
    "    \n",
    "    source1 = source1.replace(\"window.\", \"<\")   # window.을 <로 대체\n",
    "    \n",
    "    source1 = el_and_replace(source1, '<', ';') # <부터 ;까지 삭제\n",
    "    \n",
    "    for i in range(30):                         # 단어 사이의 큰 공백들을 한개의 공백으로 대체하는 반복문\n",
    "        source1 = source1.replace(\"  \", \" \")\n",
    "    \n",
    "    source1 = source1.split()       # 공백 기준으로 나눠서 리스트 생성\n",
    "    \n",
    "    source1 = remove_punc(source1)  # 구두문자 제거\n",
    "    \n",
    "    source1_dict = list_to_dict(source1)\n",
    "    \n",
    "    return source1_dict"
   ]
  },
  {
   "cell_type": "code",
   "execution_count": null,
   "id": "4d548d97",
   "metadata": {},
   "outputs": [],
   "source": []
  },
  {
   "cell_type": "code",
   "execution_count": null,
   "id": "cb0a00fa",
   "metadata": {},
   "outputs": [],
   "source": [
    "#print(pure_texting('https://www.naver.com/'))"
   ]
  },
  {
   "cell_type": "code",
   "execution_count": null,
   "id": "459dfac5",
   "metadata": {},
   "outputs": [],
   "source": [
    "#print(pure_texting('http://cse.koreatech.ac.kr'))"
   ]
  },
  {
   "cell_type": "code",
   "execution_count": null,
   "id": "13de4fb7",
   "metadata": {},
   "outputs": [],
   "source": [
    "#print(pure_texting('https://www.koreatech.ac.kr'))"
   ]
  },
  {
   "cell_type": "code",
   "execution_count": null,
   "id": "67272bf5",
   "metadata": {},
   "outputs": [],
   "source": [
    "#print(pure_texting('http://www.daum.net'))"
   ]
  },
  {
   "cell_type": "code",
   "execution_count": null,
   "id": "1a7f67a9",
   "metadata": {},
   "outputs": [],
   "source": [
    "#print(pure_texting('http://www.nytimes.com'))"
   ]
  },
  {
   "cell_type": "code",
   "execution_count": null,
   "id": "98f1a96b",
   "metadata": {},
   "outputs": [],
   "source": []
  },
  {
   "cell_type": "markdown",
   "id": "71337325",
   "metadata": {},
   "source": [
    "## [느낀점]"
   ]
  },
  {
   "cell_type": "markdown",
   "id": "01b69bbf",
   "metadata": {},
   "source": [
    "- 파일 입출력에 대해서 많이 써보고 관련 메소드들을 사용해 볼 수 있는 과제여서 좋았고, 람다함수와 같이 일반적인 경우에서 코드를 간단히하고, 사용성이 높은 내용들을 익히고 실질적으로 어떻게 사용하는지 느낄 수 있었던 과제였습니다. 그리고 각각의 기능들을 편하게 사용하기 위해서 세부적인 메소드와 포맷까지 익혀야하겠다는 생각을 했습니다."
   ]
  }
 ],
 "metadata": {
  "kernelspec": {
   "display_name": "Python 3",
   "language": "python",
   "name": "python3"
  },
  "language_info": {
   "codemirror_mode": {
    "name": "ipython",
    "version": 3
   },
   "file_extension": ".py",
   "mimetype": "text/x-python",
   "name": "python",
   "nbconvert_exporter": "python",
   "pygments_lexer": "ipython3",
   "version": "3.8.8"
  }
 },
 "nbformat": 4,
 "nbformat_minor": 5
}
