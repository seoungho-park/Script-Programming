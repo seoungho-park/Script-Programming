{
 "cells": [
  {
   "cell_type": "markdown",
   "id": "30f7570d",
   "metadata": {},
   "source": [
    "# Assignment_5"
   ]
  },
  {
   "cell_type": "markdown",
   "id": "899ae4fd",
   "metadata": {},
   "source": [
    "### 2018136037_박성호"
   ]
  },
  {
   "cell_type": "markdown",
   "id": "ea2f9042",
   "metadata": {},
   "source": [
    "## [일반문제1]"
   ]
  },
  {
   "cell_type": "markdown",
   "id": "e3c998df",
   "metadata": {},
   "source": [
    "1. 클래스와 모듈의 공통점과 차이점에 대해 설명하시오."
   ]
  },
  {
   "cell_type": "markdown",
   "id": "1b6724b7",
   "metadata": {},
   "source": [
    "- 먼저 클래스와 모듈은 다양한 함수들을 포함하고 한 데 묶어주는 기능을 하는 요소들이지만 클래스 내의 함수들은 서로 클래스 멤버변수를 공유해서 사용하고 소통이 가능한 함수들이지만 모듈은 각각의 분리된 함수들을 단순히 한 곳에 모아놓은 것이다. 또한 모듈은 파일 단위로 이름 공간을 구성하지만 클래스는 클래스 영역 내에 이름 공간을 구성한다."
   ]
  },
  {
   "cell_type": "markdown",
   "id": "96320c16",
   "metadata": {},
   "source": [
    "## [일반문제2]"
   ]
  },
  {
   "cell_type": "markdown",
   "id": "a818a11d",
   "metadata": {},
   "source": [
    "1. 다형성에 대해 설명하고 다형성을 보여주는 자신만의 파이썬 코드 예제를 제시하시오."
   ]
  },
  {
   "cell_type": "markdown",
   "id": "4eef5774",
   "metadata": {},
   "source": [
    "- 다형성은 상속 관계 내의 다른 클래스들의 인스턴스들이 같은 멤버 함수 호출에 대해 각각 다르게 반응하도록 하는 기능이다. 다형성은 적은 코딩으로 다양한 객체들에게 유사한 작업을 수행시킬 수 있고, 일관된 코딩 방식이 유지되며 프로그램 작성 코드량이 줄어들고 코드의 가독성을 높혀준다는 장점이 있다. 그리고 파이썬에서는 형 선언이 없다는 점에서 다형성을 적용하기가 더욱 용이하고, 실시간으로 객체의 형이 결정됨에 따라 하나으 ㅣ메소드에 연관시킬 수 있는 객체의 종류에 제한이 없다. 즉, 상속 관계 등의 클래스 간의 관계 설정 필요 없이 다형성이 적용 가능하다."
   ]
  },
  {
   "cell_type": "code",
   "execution_count": 134,
   "id": "f539cc7c",
   "metadata": {},
   "outputs": [
    {
     "name": "stdout",
     "output_type": "stream",
     "text": [
      "저는 사람입니다.\n",
      "저는 사람이고 선생님입니다.\n",
      "저는 사람이고 학생입니다.\n",
      "저는 사람이고 남자입니다.\n"
     ]
    }
   ],
   "source": [
    "class Person:\n",
    "    def self_introduce(self):\n",
    "        print('저는 사람입니다.')\n",
    "        \n",
    "class Teacher(Person):\n",
    "    def self_introduce(self):\n",
    "        print('저는 사람이고 선생님입니다.')\n",
    "        \n",
    "class Student(Person):\n",
    "    def self_introduce(self):\n",
    "        print('저는 사람이고 학생입니다.')\n",
    "        \n",
    "class Male(Person):\n",
    "    def self_introduce(self):\n",
    "        print('저는 사람이고 남자입니다.')\n",
    "        \n",
    "for who in (Person(), Teacher(), Student(), Male()):\n",
    "    who.self_introduce()"
   ]
  },
  {
   "cell_type": "markdown",
   "id": "829c787a",
   "metadata": {},
   "source": [
    "- Person을 상속받는 세가지 클래스를 정의하고 각각의 함수의 이름은 일치시키되 다른 몸체를 가지도록 하고 각각의 클래스마다 해당 함수를 실행하도록 했습니다."
   ]
  },
  {
   "cell_type": "markdown",
   "id": "93f98fe2",
   "metadata": {},
   "source": [
    "## [일반문제3]"
   ]
  },
  {
   "cell_type": "markdown",
   "id": "f9c1b1c7",
   "metadata": {},
   "source": [
    "1. 다음 각 요구사항 모두를 만족시키는 Counter 클래스를 코딩하시오 (정답을 각 요구사항별로 입력할 필요 없이 3번 문제에 대해 1개의 클래스 정의 코드를 제시하면 된다.)"
   ]
  },
  {
   "cell_type": "code",
   "execution_count": 25,
   "id": "ee98b186",
   "metadata": {},
   "outputs": [],
   "source": [
    "class Counter:\n",
    "    def __init__(self, count, step = 1):\n",
    "        self.count = count\n",
    "        self.step = step\n",
    "        \n",
    "    def __str__(self):\n",
    "        return \"[Count (step: {})] {}\".format(self.step, self.count)\n",
    "    \n",
    "    def incr(self):\n",
    "        self.count += self.step\n",
    "        \n",
    "    def __call__(self):\n",
    "        self.incr()\n",
    "        \n",
    "    def __add__(self, other):\n",
    "        return self.count + other\n",
    "        \n",
    "    def __sub__(self, other):\n",
    "        return self.count - other\n",
    "    \n",
    "    def __eq__(self, other):\n",
    "        return self.count == other\n",
    "    \n",
    "    def __lt__(self, other):\n",
    "        return self.count < other\n",
    "    \n",
    "    def __le__(self, other):\n",
    "        return self.count <= other"
   ]
  },
  {
   "cell_type": "code",
   "execution_count": 26,
   "id": "bfc2453a",
   "metadata": {},
   "outputs": [
    {
     "name": "stdout",
     "output_type": "stream",
     "text": [
      "[Count (step: 1)] 11\n",
      "[Count (step: 2)] 12\n",
      "[Count (step: 1)] 12\n",
      "[Count (step: 2)] 14\n",
      "17\n",
      "9\n",
      "True\n",
      "False\n",
      "False\n",
      "True\n",
      "True\n",
      "False\n"
     ]
    }
   ],
   "source": [
    "c = Counter(10)\n",
    "d = Counter(10, 2)\n",
    "\n",
    "c.incr()\n",
    "d.incr()\n",
    "print(c)\n",
    "print(d)\n",
    "\n",
    "c()\n",
    "d()\n",
    "print(c)\n",
    "print(d)\n",
    "\n",
    "c = c + 5\n",
    "d = d - 5\n",
    "print(c)\n",
    "print(d)\n",
    "\n",
    "print(c > 10)\n",
    "print(d > 10)\n",
    "print(c < 10)\n",
    "print(d < 10)\n",
    "print(c == 17)\n",
    "print(d != 9)"
   ]
  },
  {
   "cell_type": "markdown",
   "id": "ccd5bab7",
   "metadata": {},
   "source": [
    "- 먼저 __init__()을 사용해서 생성자를 정의했고, 기본매개변수를 사용해서 step의 기본값이 1로 설정되도록 했습니다. 그리고 __str__()과 .format()을 이용해서 print(객체)를 하면 인스턴스를 출력해주도록 했습니다. incr()메소드를 정의해줘서 한 번 호출될 때마다 객체의 count를 step만큼 증가하도록 했습니다. __call__()의 몸체에 incr()이 실행되도록 정의했고, __add__(), __sub__()을 재정의해서 인스턴스 객체와의 산술연산이 가능하도록 했습니다. 마지막으로 __eq__(), __lt__(), __le__()를 정의해서 관계연산이 가능하도록 했습니다."
   ]
  },
  {
   "cell_type": "markdown",
   "id": "e82ed894",
   "metadata": {},
   "source": [
    "## [일반문제4]"
   ]
  },
  {
   "cell_type": "code",
   "execution_count": null,
   "id": "ae868fcb",
   "metadata": {},
   "outputs": [],
   "source": [
    "class MySet(list):\n",
    "    def __init__(self, l):\n",
    "        for e in l:\n",
    "            self.append(e)\n",
    "        MySet.eliminate_duplicate(self)\n",
    "    \n",
    "    def __str__(self):\n",
    "        result = \"MySet: {\"\n",
    "        for e in self:\n",
    "            result = result + str(e) + \" ,\"\n",
    "        result = result[0:len(result)-2] + \"}\"\n",
    "        return result\n",
    "\n",
    "    @staticmethod    \n",
    "    def eliminate_duplicate(l):\n",
    "        s = []\n",
    "        for e in l:\n",
    "            if e not in s:\n",
    "                s.append(e)\n",
    "        l[:] = []\n",
    "        for e in s:\n",
    "            l.append(e)\n",
    "\n",
    "    \n",
    "if __name__ == \"__main__\":\n",
    "    s = MySet([1, 2, 2, 3])\n",
    "    print(s)\n",
    "    t = MySet([2, 3, 4, 5, 6, 7, 8, 8, 8, 8, 8, 9])\n",
    "    print(t)"
   ]
  },
  {
   "cell_type": "markdown",
   "id": "42e5fd7c",
   "metadata": {},
   "source": [
    "- \\__init__(self, l)\n",
    "    - 기본적으로 __init__() 메소드는 클래스의 생성자 클래스로 클래스의 인스턴스 객체가 생성될 때 실행되는 메소드입니다. 개발자가 만들지 않으면 자동적으로 기본생성자가 만들어지지만 다른 역할을 하도록 하기 위해서 위와 같이 정의할 수도 있습니다. 위의 클래스에서는 self와 l을 매개변수로 받아오고있는데 self는 따로 매개변수를 적지 않아도 객체 자신을 가져오는 것이고, l은 생성될 때 전달되는 매개변수를 뜻합니다. 해당 클래스에서는 전달된 l안에 있는 요소를 순차적으로 불러와서 self에 반복적으로 추가해주고있고, 클래스의 eliminate_duplicate()메소드를 호출해서 실행하고 있습니다.\n",
    "    \n",
    "- \\__str__(self)\n",
    "    - 객체의 비공식적인 문자열 표현으로 사용자가 보기 편한 형태로 자유롭게 표현할 수 있습니다. 위의 클래스에서는 \"MySet: {}\"와 같이 표현되도록 설정하였고, 반복문을 통해 중괄호 안에 self의 모든 요소들이 들어간 문자열이 생성되고 반환하도록하고 있습니다.\n",
    "    \n",
    "- elimicate_duplicate(l)\n",
    "    - 먼저 @staticmethod는 클래스의 메소드를 정적메소드로 변환할 수 있게 해주는 데코레이션입니다. 이로써 원래는 클래스 객체의 메소드로 사용해야하지만 이제는 클래스의 인스턴스 객체를 생성하지 않고 해당 메소드를 사용할 수 있게 됐습니다. 해당 메소드는 새로운 배열 s를 생성해서 l의 요소를 꺼내서 s에 순차적으로 넣어주고, 이미 있는 요소이면은 넣지 않습니다. 이로인해 l에 있던 중복요소들을 삭제할 수 있었고, 두번째 반복문을 통해 s에 있는 요소들을 다시 l에 넣어주었습니다."
   ]
  },
  {
   "cell_type": "markdown",
   "id": "476ace58",
   "metadata": {},
   "source": [
    "## [일반문제5]"
   ]
  },
  {
   "cell_type": "markdown",
   "id": "af7b91fe",
   "metadata": {},
   "source": [
    "1. 4번 문제에 정의된 MySet 클래스에 메소드를 추가하여 다음 각 요구사항 모두를 만족시키는 코딩을 제시하시오."
   ]
  },
  {
   "cell_type": "code",
   "execution_count": 45,
   "id": "54850f43",
   "metadata": {},
   "outputs": [
    {
     "name": "stdout",
     "output_type": "stream",
     "text": [
      "MySet: {1 ,2 ,3}\n",
      "MySet: {2 ,3 ,4 ,5 ,6 ,7 ,8 ,9}\n",
      "MySet: {1 ,2 ,3 ,4 ,5 ,6 ,7 ,8 ,9}\n",
      "MySet: {2 ,3}\n",
      "MySet: {1 ,2}\n"
     ]
    }
   ],
   "source": [
    "class MySet(list):\n",
    "    def __init__(self, l):\n",
    "        for e in l:\n",
    "            self.append(e)\n",
    "        MySet.eliminate_duplicate(self)\n",
    "    \n",
    "    def __str__(self):\n",
    "        result = \"MySet: {\"\n",
    "        for e in self:\n",
    "            result = result + str(e) + \" ,\"\n",
    "        result = result[0:len(result)-2] + \"}\"\n",
    "        return result\n",
    "\n",
    "    @staticmethod    \n",
    "    def eliminate_duplicate(l):\n",
    "        s = []\n",
    "        for e in l:\n",
    "            if e not in s:\n",
    "                s.append(e)\n",
    "        l[:] = []\n",
    "        for e in s:\n",
    "            l.append(e)\n",
    "            \n",
    "    # |연산으로 두 집합의 합집합을 반환한다.\n",
    "    def __or__(self, other):      \n",
    "        return MySet(self + other)\n",
    "            \n",
    "    # & 연산으로 두 집합의 교집합을 반환, 리스트 내포 사용, 새로운 MySet생성해서 반환\n",
    "    def __and__(self, other):\n",
    "        return MySet([e for e in self if e in other])\n",
    "        \n",
    "    # - 연산으로 두 집합의 차집합을 반환, 리스트 내포 사용, 새로운 MySet 생성해서 반환\n",
    "    def __sub__(self, other):\n",
    "        return MySet([e for e in self if e not in other])\n",
    "        \n",
    "if __name__ == \"__main__\":\n",
    "    s = MySet([1, 2, 2, 3])\n",
    "    print(s)\n",
    "    t = MySet([2, 3, 4, 5, 6, 7, 8, 8, 8, 8, 8, 9])\n",
    "    print(t)\n",
    "    \n",
    "    u = s|t\n",
    "    print(u)\n",
    "    \n",
    "    u = s&t\n",
    "    print(u)\n",
    "    \n",
    "    s = MySet([1,2,3])\n",
    "    t = MySet([3,4,5])\n",
    "    u = s - t\n",
    "    print(u)"
   ]
  },
  {
   "cell_type": "markdown",
   "id": "9813c27a",
   "metadata": {},
   "source": [
    "## [일반문제6]"
   ]
  },
  {
   "cell_type": "markdown",
   "id": "49d451e0",
   "metadata": {},
   "source": [
    "1. 5번 문제에서 정의한 MySet 클래스에 대해 다음 예제를 수행하면 오류없이 올바르게 동작하는 것을 확인할 수 있다. 다음 예제 내에 있는 len(), bool() 내장함수와 in 키워드 사용 예제가 별다른 메소드 정의를 하지 않았는데도 올바르게 수행되는 이유를 설명하시오.\n",
    "\n",
    "- len()\n",
    "    내장함수로서 이미 구현되어있기 때문에 사용할 수 있다. 입력값의 길이나 요소의 개수를 반환해준다.\n",
    "- bool()\n",
    "    객체가 비었거나 None거나 0값을 가지는 경우에만 False를 반환한다. 조건이 필요한 모든 경우에 어떠한 객체도 사용할 수 있다. __bool__()메소드가 전혀 구현되어있지 않다면 True를 반환하는 것이 기본 동작 방식이다.\n",
    "\n",
    "- in 키워드\n",
    "    이미 파이썬 자체에 내장되어있는 키워드이기 때문에 별다른 메소드 정의를 하지 않아도 올바르게 수행된다."
   ]
  },
  {
   "cell_type": "markdown",
   "id": "c82767f3",
   "metadata": {},
   "source": [
    "## [Incremental Project 문제1]"
   ]
  },
  {
   "cell_type": "markdown",
   "id": "0396eddb",
   "metadata": {},
   "source": [
    "1. Assignment3 & Assignment4의 Incremental Project 코드를 다시 확장/변형하여 다음과 같은 조건을 만족하도록 구현하시오"
   ]
  },
  {
   "cell_type": "code",
   "execution_count": 23,
   "id": "71eac08c",
   "metadata": {},
   "outputs": [],
   "source": [
    "def el_and_replace(source, start, end, a = \"\", b = \"\"): # source에서  start부터 end까지 지우고, a를 b로 대체하게 하는 함수\n",
    "    pure_text_list = []\n",
    "    flag = 0\n",
    "    for i in range(len(source)):\n",
    "        if source[i] == start:                  # 문자열의 원소가 지정한 시작점과 일치하면 flag에 0 저장\n",
    "            flag = 1\n",
    "        elif flag == 0:                         # 만약 flag가 0이라면 만들어놓은 리스트 뒤쪽으로 저장\n",
    "            pure_text_list.append(source[i])\n",
    "        elif source[i] == end:                  # 문자열의 원소가 지정한 끝점과 일치하면 flag에 0 저장\n",
    "            flag = 0\n",
    "    pure_text = ''.join(pure_text_list)         # 만들어진 리스트를 문자열로 이어붙여서 저장\n",
    "    pure_text = pure_text.replace(a, b)         # 문자열 중에서 a를 b로 대체하여 저장\n",
    "    return pure_text                            # 완성된 문자열을 반환\n",
    "            \n",
    "def remove_punc(lst):\n",
    "    index = 0\n",
    "    for i in lst:                         # 리스트의 요소들을 차례대로 i에 저장하며 반복\n",
    "        for j in list(i):                 # i를 리스트로 변환하여 한글자씩 j에 저장\n",
    "            if j.isalnum() == False :     # 글자 j가 구두문자일 때\n",
    "                lst[index] = lst[index].replace(j, \"\",1)   # 구두문자 j를 삭제한 i로 대체, 1개만\n",
    "        index += 1\n",
    "    lst = ' '.join(lst).split()           # 비어있는 요소가 있다면 join으로 붙였다 떼면서 제거\n",
    "    return lst\n",
    "\n",
    "def list_to_dict(lst):\n",
    "    dic = {}\n",
    "    for i in range(len(lst)):\n",
    "        if lst[i] not in dic:\n",
    "            dic[lst[i]] = 1\n",
    "        else :\n",
    "            dic[lst[i]] += 1\n",
    "    return dic\n",
    "\n",
    "# 불용어의 제거\n",
    "def eliminate_stwrd(pure_texting):\n",
    "    \n",
    "    f = open('stop_words.txt', 'r')\n",
    "    f_lines = f.readlines()\n",
    "    f.close()\n",
    "    \n",
    "    list = pure_texting\n",
    "    list_tmp = []\n",
    "    for word in list:\n",
    "        if \"{}\\n\".format(word) in f_lines:\n",
    "            list_tmp.append(word)\n",
    "    for word in list_tmp:\n",
    "        list.pop(word)\n",
    "    return list"
   ]
  },
  {
   "cell_type": "code",
   "execution_count": 24,
   "id": "e93808b5",
   "metadata": {},
   "outputs": [],
   "source": [
    "import requests\n",
    "\n",
    "def pure_texting(url):     # 페이지소스를 가져와 순수 문자열로 변환하는 함수\n",
    "    req = requests.get(url) # 홈페이지의 소스를 저장\n",
    "    source1 = req.text\n",
    "    \n",
    "    source1 = source1.replace(\"<style>\", \"<\")\n",
    "    source1 = source1.replace(\"</style>\", \">\")\n",
    "    source1 = source1.replace(\"<script>\", \"<\")\n",
    "    source1 = source1.replace(\"</script>\", \">\")      # 시작과 끝은 <과 >로 변경\n",
    "    source1 = el_and_replace(source1, '<', '>', \"\\n\", \" \")  # <부터 >까지 지우고 \\n을 공백으로 대체\n",
    "    source1 = el_and_replace(source1, '[', ']', \"\\r\", \" \")  # [부터 ]까지 지우고 \\r을 공백으로 대체\n",
    "    source1 = el_and_replace(source1, '{', '}', \"\\t\", \" \")\n",
    "    source1 = el_and_replace(source1, '(', ')', \"document.\", \"<\")\n",
    "    source1 = el_and_replace(source1, '&', \";\", \"._\", \"&\")\n",
    "    source1 = el_and_replace(source1, '&', ':', \"var\", \"<\")\n",
    "    source1 = source1.replace(\"window.\", \"<\")   # window.을 <로 대체\n",
    "    source1 = el_and_replace(source1, '<', ';') # <부터 ;까지 삭제\n",
    "    \n",
    "    for i in range(30):                         # 단어 사이의 큰 공백들을 한개의 공백으로 대체하는 반복문\n",
    "        source1 = source1.replace(\"  \", \" \")\n",
    "    \n",
    "    source1 = source1.split()       # 공백 기준으로 나눠서 리스트 생성\n",
    "    source1 = remove_punc(source1)  # 구두문자 제거\n",
    "    source1_dict = list_to_dict(source1)\n",
    "    \n",
    "    source_pure_text = eliminate_stwrd(source1_dict)    # 불용어 제거\n",
    "    \n",
    "    return source_pure_text"
   ]
  },
  {
   "cell_type": "code",
   "execution_count": 28,
   "id": "59c6e0ab",
   "metadata": {},
   "outputs": [],
   "source": [
    "# print(pure_texting('https://www.naver.com/'))"
   ]
  },
  {
   "cell_type": "code",
   "execution_count": 122,
   "id": "eae4e726",
   "metadata": {},
   "outputs": [
    {
     "name": "stdout",
     "output_type": "stream",
     "text": [
      "http://www.times.com\n",
      "https://www.amazon.com\n",
      "http://www.naver.com/\n",
      "http://github.com\n",
      "{'zntlight': 261}\n",
      "['http://www.naver.com/']\n"
     ]
    }
   ],
   "source": [
    "class SearchEngine:\n",
    "    # 생성자 인수를 가변인수로 정의하여 각각의 URL을 리스트 자료형에 유지\n",
    "    def __init__(self, *args):    \n",
    "        self.urllst = [*args]\n",
    "        \n",
    "    # addUrl()메소드를 구현하여 인스턴스를 생성한 이후에도 Url을 추가\n",
    "    def addUrl(self, url):\n",
    "        self.urllst.append(url)\n",
    "        \n",
    "    # removeUrl() 메소드를 구현하여 URL을 삭제\n",
    "    def removeUrl(self, url):\n",
    "        self.urllst.pop(self.urllst.index(url))\n",
    "        \n",
    "    # listUrls() 메소드를 구현하여 현재 등록된 모든 URL을 출력하는 기능을 추가\n",
    "    def listUrls(self):\n",
    "        for url in self.urllst:\n",
    "            print(url)\n",
    "           \n",
    "    # 각 URL의 웹페이지들을 종합적으로 분석한 단어 출현 빈도 사전 반환\n",
    "    def getWordsFrequency(self):\n",
    "        wrdfrq = {}\n",
    "        for url in self.urllst:\n",
    "            wrdfrq.update(pure_texting(url))\n",
    "        return wrdfrq\n",
    "    \n",
    "    # 각 URL의 웹페이지들을 종합적으로 분석한 단어 출현 빈도 사전에서 가장 많이 출현한 단어 리스트르 반환\n",
    "    def getMaxFrequencyWords(self):\n",
    "        dic = {}\n",
    "        wrdfrq = self.getWordsFrequency()\n",
    "        wrdfrq = sorted(wrdfrq.items(), key = lambda a: a[1], reverse = True)\n",
    "        \n",
    "        dic[wrdfrq[0][0]] = wrdfrq[0][1]\n",
    "        for index in range(len(wrdfrq) - 1):\n",
    "            if wrdfrq[0][1]== wrdfrq[index+1][1]:\n",
    "                print(dic[wrdfrq[0][1]])\n",
    "                dic[wrdfrq[index+1][0]] = wrdfrq[index+1][1]\n",
    "            else: break\n",
    "        return dic\n",
    "        \n",
    "    # 임의의 단어 1개를 파라미터로 받는 searchUrlByWord() 메소드를 구현하여 유사도가 높은 웹사이트를 출력\n",
    "    def searchUrlByWord(self, searchingword):\n",
    "        \n",
    "        wrdfrq_dic = sorted(self.getWordsFrequency().items(), key = lambda a: a[1], reverse = True)\n",
    "        searchedUrl = []\n",
    "        searching_dic = {}\n",
    "        \n",
    "        for dic in wrdfrq_dic:\n",
    "            if searchingword == dic[0]:\n",
    "                searching_dic[dic[0]] = dic[1]\n",
    "                break\n",
    "        for url in self.urllst:\n",
    "            if searchingword in pure_texting(url):\n",
    "                if searching_dic[searchingword] == pure_texting(url)[searchingword]:\n",
    "                    searchedUrl.append(url)\n",
    "        return searchedUrl\n",
    "            \n",
    "        \n",
    "        \n",
    "w1 = SearchEngine('http://www.cnn.com', 'http://www.times.com', 'https://www.amazon.com', 'http://www.naver.com/')\n",
    "w2 = SearchEngine('http://www.cnn.com', 'http://www.times.com')\n",
    "w3 = SearchEngine()\n",
    "\n",
    "w1.addUrl('http://github.com')\n",
    "w3.addUrl('http://stackoverflow.com')\n",
    "\n",
    "w1.removeUrl('http://www.cnn.com')\n",
    "w3.removeUrl('http://stackoverflow.com')\n",
    "\n",
    "w1.listUrls()\n",
    "\n",
    "# w1.getWordsFrequency()\n",
    "\n",
    "print(w2.getMaxFrequencyWords())\n",
    "\n",
    "print(w1.searchUrlByWord('news'))"
   ]
  },
  {
   "cell_type": "markdown",
   "id": "7c64ab2d",
   "metadata": {},
   "source": [
    "- 1) *args를 이용하여 가변인자를 받을 수 있도록 했습니다.\n",
    "- 2) url인자를 받아 클래스의 멤버변수인 urllst에 추가하도록 했습니다.\n",
    "- 3) 리스트의 pop()을 이용해서 index()로 해당 url의 인덱스를 찾은 뒤에 삭제하도록 했습니다.\n",
    "- 4) for 문을 이용하여 반복적으로 현재 가지고있는 urllst를 출력하도록 했습니다.\n",
    "- 5) 이전 과제에서 만들었던 pure_texting()함수를 이용하여 해당 리스트를 반환했습니다.\n",
    "- 6) 사전식 리스트를 정렬하고 가장 많이 출현한 맨 앞의 인덱스를 반환하고 동시에 같은 빈도의 단어가 있는지 검사해서 같이 반환하도록 했습니다.\n",
    "- 7) 종합적으로 사전식 리스트를 구성하고 가장 많이 나온 {키워드:빈도수}를 각각의 url에서 찾아서 해당 url을 반환했습니다. 같은 빈도수의 키워드가 여러개의 url에 있다면 다같이 반환하도록 했습니다."
   ]
  },
  {
   "cell_type": "markdown",
   "id": "dcf8a75e",
   "metadata": {},
   "source": [
    "## [Incremental Project 문제2]"
   ]
  },
  {
   "cell_type": "code",
   "execution_count": 132,
   "id": "ffb80d31",
   "metadata": {},
   "outputs": [],
   "source": [
    "class SearchEngineWithOrderedWebWords(SearchEngine):\n",
    "    # 각 URL의 웹페이지들을 종합적으로 분석한 단어 출현 빈도 사전 반환\n",
    "    def getWordsFrequency(self, reverse = False):\n",
    "        wrdfrq = {}\n",
    "        for url in self.urllst:\n",
    "            wrdfrq.update(pure_texting(url))\n",
    "        wrdfrq = sorted(wrdfrq.items(), key = lambda a: a[1], reverse = reverse)\n",
    "        return wrdfrq\n",
    "    \n",
    "w4 = SearchEngineWithOrderedWebWords('http://www.times.com', 'https://www.amazon.com', 'https://github.com')\n",
    "\n",
    "#print(w4.getWordsFrequency())\n",
    "#print(w4.getWordsFrequency(reverse=True))"
   ]
  },
  {
   "cell_type": "markdown",
   "id": "3d6fc9a2",
   "metadata": {},
   "source": [
    "- 먼저 부모클래스를 상속한 뒤에 마지막에 리스트를 반환할 때 key 요소와 lambda함수와 reverse를 이용하여 정렬하여 반환하였고, reverse를 매개변수로 전달할 수 있도록 하고 False를 기본인자로 설정했습니다."
   ]
  },
  {
   "cell_type": "markdown",
   "id": "276316ac",
   "metadata": {},
   "source": [
    "## [Incremental Project 문제3]"
   ]
  },
  {
   "cell_type": "code",
   "execution_count": 143,
   "id": "e6b20fab",
   "metadata": {},
   "outputs": [],
   "source": [
    "class SearchEngineWithOrderedWebWords(SearchEngine):\n",
    "    wordlist = []\n",
    "    index = 0\n",
    "    \n",
    "    # 각 URL의 웹페이지들을 종합적으로 분석한 단어 출현 빈도 사전 반환\n",
    "    def getWordsFrequency(self, reverse = False):\n",
    "        wrdfrq = {}\n",
    "        for url in self.urllst:\n",
    "            wrdfrq.update(pure_texting(url))\n",
    "        wrdfrq = sorted(wrdfrq.items(), key = lambda a: a[1], reverse = reverse)\n",
    "        wordlist = wrdfrq\n",
    "        return wrdfrq\n",
    "    \n",
    "    # 반복자와 관련 메소드 추가\n",
    "    def __iter__(self):\n",
    "        return self\n",
    "    \n",
    "    def __next__(self):\n",
    "        try:\n",
    "            result = self.wordlist[self.index]\n",
    "        except IndexError:\n",
    "            raise StopIteration\n",
    "        self.index += 1\n",
    "        return result\n",
    "    \n",
    "w4 = SearchEngineWithOrderedWebWords('http://www.times.com', 'https://www.amazon.com', 'https://github.com')\n",
    "\n",
    "#print(w4.getWordsFrequency())\n",
    "#print(w4.getWordsFrequency(reverse=True))\n",
    "\n",
    "for i in w4:\n",
    "    print(i)"
   ]
  },
  {
   "cell_type": "markdown",
   "id": "08209b7d",
   "metadata": {},
   "source": [
    "- 먼저 getWordsFrequency()가 reverse를 인자로 받을 수 있도록 해서 오름차순 및 내림차순을 설정할 수 있도록 하였고, 기본적으로는 내림차순이 되도록 재정의했습니다. 그리고 __iter__()와 __next__()를 재정의하여 wordlist에서 하나씩 순차적으로 반환하도록 했습니다."
   ]
  },
  {
   "cell_type": "markdown",
   "id": "cd30be8d",
   "metadata": {},
   "source": [
    "## [느낀점]\n",
    "\n",
    "- 지금까지 배운 파일입출력, 정렬, 클래스 등의 내용들을 종합적으로 사용해볼 수 있어서 좋았고, 특히 파이썬이라는 언어에서 클래스의 생성과 사용에 대해서 많이 배우고 익힐 수 있었던 과제였습니다."
   ]
  }
 ],
 "metadata": {
  "kernelspec": {
   "display_name": "Python 3",
   "language": "python",
   "name": "python3"
  },
  "language_info": {
   "codemirror_mode": {
    "name": "ipython",
    "version": 3
   },
   "file_extension": ".py",
   "mimetype": "text/x-python",
   "name": "python",
   "nbconvert_exporter": "python",
   "pygments_lexer": "ipython3",
   "version": "3.8.8"
  }
 },
 "nbformat": 4,
 "nbformat_minor": 5
}
